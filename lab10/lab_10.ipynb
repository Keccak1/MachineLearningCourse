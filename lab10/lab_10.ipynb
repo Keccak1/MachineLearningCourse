{
 "cells": [
  {
   "cell_type": "markdown",
   "metadata": {},
   "source": [
    "# PCA"
   ]
  },
  {
   "cell_type": "markdown",
   "metadata": {},
   "source": [
    "## Zadanie 1"
   ]
  },
  {
   "cell_type": "code",
   "execution_count": 1,
   "metadata": {},
   "outputs": [],
   "source": [
    "import pandas as pd \n",
    "import numpy as np\n",
    "import matplotlib as mpl\n",
    "import matplotlib.pyplot as plt\n",
    "\n",
    "%matplotlib inline"
   ]
  },
  {
   "cell_type": "code",
   "execution_count": 2,
   "metadata": {},
   "outputs": [],
   "source": [
    "df=pd.read_csv('usarrests.csv', index_col=0)"
   ]
  },
  {
   "cell_type": "code",
   "execution_count": 3,
   "metadata": {},
   "outputs": [
    {
     "data": {
      "text/html": [
       "<div>\n",
       "<style scoped>\n",
       "    .dataframe tbody tr th:only-of-type {\n",
       "        vertical-align: middle;\n",
       "    }\n",
       "\n",
       "    .dataframe tbody tr th {\n",
       "        vertical-align: top;\n",
       "    }\n",
       "\n",
       "    .dataframe thead th {\n",
       "        text-align: right;\n",
       "    }\n",
       "</style>\n",
       "<table border=\"1\" class=\"dataframe\">\n",
       "  <thead>\n",
       "    <tr style=\"text-align: right;\">\n",
       "      <th></th>\n",
       "      <th>Murder</th>\n",
       "      <th>Assault</th>\n",
       "      <th>UrbanPop</th>\n",
       "      <th>Rape</th>\n",
       "    </tr>\n",
       "  </thead>\n",
       "  <tbody>\n",
       "    <tr>\n",
       "      <th>Alabama</th>\n",
       "      <td>13.2</td>\n",
       "      <td>236</td>\n",
       "      <td>58</td>\n",
       "      <td>21.2</td>\n",
       "    </tr>\n",
       "    <tr>\n",
       "      <th>Alaska</th>\n",
       "      <td>10.0</td>\n",
       "      <td>263</td>\n",
       "      <td>48</td>\n",
       "      <td>44.5</td>\n",
       "    </tr>\n",
       "    <tr>\n",
       "      <th>Arizona</th>\n",
       "      <td>8.1</td>\n",
       "      <td>294</td>\n",
       "      <td>80</td>\n",
       "      <td>31.0</td>\n",
       "    </tr>\n",
       "    <tr>\n",
       "      <th>Arkansas</th>\n",
       "      <td>8.8</td>\n",
       "      <td>190</td>\n",
       "      <td>50</td>\n",
       "      <td>19.5</td>\n",
       "    </tr>\n",
       "    <tr>\n",
       "      <th>California</th>\n",
       "      <td>9.0</td>\n",
       "      <td>276</td>\n",
       "      <td>91</td>\n",
       "      <td>40.6</td>\n",
       "    </tr>\n",
       "  </tbody>\n",
       "</table>\n",
       "</div>"
      ],
      "text/plain": [
       "            Murder  Assault  UrbanPop  Rape\n",
       "Alabama       13.2      236        58  21.2\n",
       "Alaska        10.0      263        48  44.5\n",
       "Arizona        8.1      294        80  31.0\n",
       "Arkansas       8.8      190        50  19.5\n",
       "California     9.0      276        91  40.6"
      ]
     },
     "execution_count": 3,
     "metadata": {},
     "output_type": "execute_result"
    }
   ],
   "source": [
    "df.head()"
   ]
  },
  {
   "cell_type": "code",
   "execution_count": 4,
   "metadata": {},
   "outputs": [
    {
     "name": "stdout",
     "output_type": "stream",
     "text": [
      "<class 'pandas.core.frame.DataFrame'>\n",
      "Index: 50 entries, Alabama to Wyoming\n",
      "Data columns (total 4 columns):\n",
      " #   Column    Non-Null Count  Dtype  \n",
      "---  ------    --------------  -----  \n",
      " 0   Murder    50 non-null     float64\n",
      " 1   Assault   50 non-null     int64  \n",
      " 2   UrbanPop  50 non-null     int64  \n",
      " 3   Rape      50 non-null     float64\n",
      "dtypes: float64(2), int64(2)\n",
      "memory usage: 2.0+ KB\n"
     ]
    }
   ],
   "source": [
    "df.info()"
   ]
  },
  {
   "cell_type": "code",
   "execution_count": 5,
   "metadata": {},
   "outputs": [
    {
     "data": {
      "text/plain": [
       "Murder        7.788\n",
       "Assault     170.760\n",
       "UrbanPop     65.540\n",
       "Rape         21.232\n",
       "dtype: float64"
      ]
     },
     "execution_count": 5,
     "metadata": {},
     "output_type": "execute_result"
    }
   ],
   "source": [
    "df.mean()"
   ]
  },
  {
   "cell_type": "code",
   "execution_count": 6,
   "metadata": {},
   "outputs": [
    {
     "data": {
      "text/plain": [
       "Murder        18.970465\n",
       "Assault     6945.165714\n",
       "UrbanPop     209.518776\n",
       "Rape          87.729159\n",
       "dtype: float64"
      ]
     },
     "execution_count": 6,
     "metadata": {},
     "output_type": "execute_result"
    }
   ],
   "source": [
    "df.var()"
   ]
  },
  {
   "cell_type": "code",
   "execution_count": 7,
   "metadata": {},
   "outputs": [],
   "source": [
    "from sklearn.preprocessing import scale"
   ]
  },
  {
   "cell_type": "code",
   "execution_count": 8,
   "metadata": {},
   "outputs": [],
   "source": [
    "X = pd.DataFrame(scale(df), index=df.index, columns=df.columns)"
   ]
  },
  {
   "cell_type": "code",
   "execution_count": 9,
   "metadata": {},
   "outputs": [],
   "source": [
    "from sklearn.decomposition import PCA"
   ]
  },
  {
   "cell_type": "code",
   "execution_count": 10,
   "metadata": {},
   "outputs": [],
   "source": [
    "pca_loadings = pd.DataFrame(PCA().fit(X).components_.T, index=df.columns, columns=['V1', 'V2', 'V3', 'V4'])"
   ]
  },
  {
   "cell_type": "code",
   "execution_count": 11,
   "metadata": {},
   "outputs": [
    {
     "data": {
      "text/html": [
       "<div>\n",
       "<style scoped>\n",
       "    .dataframe tbody tr th:only-of-type {\n",
       "        vertical-align: middle;\n",
       "    }\n",
       "\n",
       "    .dataframe tbody tr th {\n",
       "        vertical-align: top;\n",
       "    }\n",
       "\n",
       "    .dataframe thead th {\n",
       "        text-align: right;\n",
       "    }\n",
       "</style>\n",
       "<table border=\"1\" class=\"dataframe\">\n",
       "  <thead>\n",
       "    <tr style=\"text-align: right;\">\n",
       "      <th></th>\n",
       "      <th>V1</th>\n",
       "      <th>V2</th>\n",
       "      <th>V3</th>\n",
       "      <th>V4</th>\n",
       "    </tr>\n",
       "  </thead>\n",
       "  <tbody>\n",
       "    <tr>\n",
       "      <th>Murder</th>\n",
       "      <td>0.535899</td>\n",
       "      <td>0.418181</td>\n",
       "      <td>-0.341233</td>\n",
       "      <td>0.649228</td>\n",
       "    </tr>\n",
       "    <tr>\n",
       "      <th>Assault</th>\n",
       "      <td>0.583184</td>\n",
       "      <td>0.187986</td>\n",
       "      <td>-0.268148</td>\n",
       "      <td>-0.743407</td>\n",
       "    </tr>\n",
       "    <tr>\n",
       "      <th>UrbanPop</th>\n",
       "      <td>0.278191</td>\n",
       "      <td>-0.872806</td>\n",
       "      <td>-0.378016</td>\n",
       "      <td>0.133878</td>\n",
       "    </tr>\n",
       "    <tr>\n",
       "      <th>Rape</th>\n",
       "      <td>0.543432</td>\n",
       "      <td>-0.167319</td>\n",
       "      <td>0.817778</td>\n",
       "      <td>0.089024</td>\n",
       "    </tr>\n",
       "  </tbody>\n",
       "</table>\n",
       "</div>"
      ],
      "text/plain": [
       "                V1        V2        V3        V4\n",
       "Murder    0.535899  0.418181 -0.341233  0.649228\n",
       "Assault   0.583184  0.187986 -0.268148 -0.743407\n",
       "UrbanPop  0.278191 -0.872806 -0.378016  0.133878\n",
       "Rape      0.543432 -0.167319  0.817778  0.089024"
      ]
     },
     "execution_count": 11,
     "metadata": {},
     "output_type": "execute_result"
    }
   ],
   "source": [
    "pca_loadings"
   ]
  },
  {
   "cell_type": "code",
   "execution_count": 12,
   "metadata": {},
   "outputs": [
    {
     "data": {
      "text/html": [
       "<div>\n",
       "<style scoped>\n",
       "    .dataframe tbody tr th:only-of-type {\n",
       "        vertical-align: middle;\n",
       "    }\n",
       "\n",
       "    .dataframe tbody tr th {\n",
       "        vertical-align: top;\n",
       "    }\n",
       "\n",
       "    .dataframe thead th {\n",
       "        text-align: right;\n",
       "    }\n",
       "</style>\n",
       "<table border=\"1\" class=\"dataframe\">\n",
       "  <thead>\n",
       "    <tr style=\"text-align: right;\">\n",
       "      <th></th>\n",
       "      <th>PC1</th>\n",
       "      <th>PC2</th>\n",
       "      <th>PC3</th>\n",
       "      <th>PC4</th>\n",
       "    </tr>\n",
       "  </thead>\n",
       "  <tbody>\n",
       "    <tr>\n",
       "      <th>Alabama</th>\n",
       "      <td>0.985566</td>\n",
       "      <td>1.133392</td>\n",
       "      <td>-0.444269</td>\n",
       "      <td>0.156267</td>\n",
       "    </tr>\n",
       "    <tr>\n",
       "      <th>Alaska</th>\n",
       "      <td>1.950138</td>\n",
       "      <td>1.073213</td>\n",
       "      <td>2.040003</td>\n",
       "      <td>-0.438583</td>\n",
       "    </tr>\n",
       "    <tr>\n",
       "      <th>Arizona</th>\n",
       "      <td>1.763164</td>\n",
       "      <td>-0.745957</td>\n",
       "      <td>0.054781</td>\n",
       "      <td>-0.834653</td>\n",
       "    </tr>\n",
       "    <tr>\n",
       "      <th>Arkansas</th>\n",
       "      <td>-0.141420</td>\n",
       "      <td>1.119797</td>\n",
       "      <td>0.114574</td>\n",
       "      <td>-0.182811</td>\n",
       "    </tr>\n",
       "    <tr>\n",
       "      <th>California</th>\n",
       "      <td>2.523980</td>\n",
       "      <td>-1.542934</td>\n",
       "      <td>0.598557</td>\n",
       "      <td>-0.341996</td>\n",
       "    </tr>\n",
       "  </tbody>\n",
       "</table>\n",
       "</div>"
      ],
      "text/plain": [
       "                 PC1       PC2       PC3       PC4\n",
       "Alabama     0.985566  1.133392 -0.444269  0.156267\n",
       "Alaska      1.950138  1.073213  2.040003 -0.438583\n",
       "Arizona     1.763164 -0.745957  0.054781 -0.834653\n",
       "Arkansas   -0.141420  1.119797  0.114574 -0.182811\n",
       "California  2.523980 -1.542934  0.598557 -0.341996"
      ]
     },
     "execution_count": 12,
     "metadata": {},
     "output_type": "execute_result"
    }
   ],
   "source": [
    "pca = PCA()\n",
    "df_plot = pd.DataFrame(pca.fit_transform(X), index=X.index, columns=['PC1', 'PC2', 'PC3', 'PC4'])\n",
    "df_plot.head()"
   ]
  },
  {
   "cell_type": "code",
   "execution_count": 13,
   "metadata": {},
   "outputs": [
    {
     "data": {
      "text/plain": [
       "<matplotlib.patches.FancyArrow at 0x7ff9ec26d6d0>"
      ]
     },
     "execution_count": 13,
     "metadata": {},
     "output_type": "execute_result"
    },
    {
     "data": {
      "image/png": "[encoded data removed]",
      "text/plain": [
       "<Figure size 648x504 with 3 Axes>"
      ]
     },
     "metadata": {
      "needs_background": "light"
     },
     "output_type": "display_data"
    }
   ],
   "source": [
    "fig , ax1 = plt.subplots(figsize=(9,7))\n",
    "\n",
    "ax1.set_xlim(-3.5, 3.5)\n",
    "ax1.set_ylim(-3.5, 3.5)\n",
    "\n",
    "for i in df_plot.index:\n",
    "    ax1.annotate(i, (-df_plot.PC1.loc[i], -df_plot.PC2.loc[i]), ha='center')\n",
    "\n",
    "ax1.hlines(0, -3.5, 3.5, linestyles='dotted', colors='grey')\n",
    "ax1.vlines(0, -3.5, 3.5, linestyles='dotted', colors='grey')\n",
    "\n",
    "ax1.set_xlabel('First Principal Component')\n",
    "ax1.set_ylabel('Second Principal Component')\n",
    "\n",
    "ax2 = ax1.twinx().twiny()\n",
    "\n",
    "ax2.set_xlim(-1, 1)\n",
    "ax2.set_ylim(-1, 1)\n",
    "ax2.set_xlabel('Principal Component loading vectors', color='red')\n",
    "\n",
    "a = 1.07\n",
    "for i in pca_loadings[['V1', 'V2']].index:\n",
    "    ax2.annotate(i, (-pca_loadings.V1.loc[i]*a, -pca_loadings.V2.loc[i]*a), color='red')\n",
    "    \n",
    "\n",
    "ax2.arrow(0, 0, -pca_loadings.V1[0], -pca_loadings.V2[0])\n",
    "ax2.arrow(0, 0, -pca_loadings.V1[1], -pca_loadings.V2[1])\n",
    "ax2.arrow(0, 0, -pca_loadings.V1[2], -pca_loadings.V2[2])\n",
    "ax2.arrow(0, 0, -pca_loadings.V1[3], -pca_loadings.V2[3])"
   ]
  },
  {
   "cell_type": "code",
   "execution_count": 14,
   "metadata": {},
   "outputs": [
    {
     "data": {
      "text/plain": [
       "array([2.53085875, 1.00996444, 0.36383998, 0.17696948])"
      ]
     },
     "execution_count": 14,
     "metadata": {},
     "output_type": "execute_result"
    }
   ],
   "source": [
    "pca.explained_variance_"
   ]
  },
  {
   "cell_type": "code",
   "execution_count": 15,
   "metadata": {},
   "outputs": [
    {
     "data": {
      "text/plain": [
       "array([0.62006039, 0.24744129, 0.0891408 , 0.04335752])"
      ]
     },
     "execution_count": 15,
     "metadata": {},
     "output_type": "execute_result"
    }
   ],
   "source": [
    "pca.explained_variance_ratio_"
   ]
  },
  {
   "cell_type": "code",
   "execution_count": 16,
   "metadata": {},
   "outputs": [
    {
     "data": {
      "text/plain": [
       "array([0.62006039, 0.24744129, 0.0891408 , 0.04335752])"
      ]
     },
     "execution_count": 16,
     "metadata": {},
     "output_type": "execute_result"
    }
   ],
   "source": [
    "pca.explained_variance_ratio_"
   ]
  },
  {
   "cell_type": "code",
   "execution_count": 17,
   "metadata": {},
   "outputs": [
    {
     "data": {
      "text/plain": [
       "([<matplotlib.axis.XTick at 0x7ff9ee28ffd0>,\n",
       "  <matplotlib.axis.XTick at 0x7ff9ec242f90>,\n",
       "  <matplotlib.axis.XTick at 0x7ff9ec0ad510>,\n",
       "  <matplotlib.axis.XTick at 0x7ff9ea83ee10>],\n",
       " [Text(0, 0, ''), Text(0, 0, ''), Text(0, 0, ''), Text(0, 0, '')])"
      ]
     },
     "execution_count": 17,
     "metadata": {},
     "output_type": "execute_result"
    },
    {
     "data": {
      "image/png": "[encoded data removed]",
      "text/plain": [
       "<Figure size 504x360 with 1 Axes>"
      ]
     },
     "metadata": {
      "needs_background": "light"
     },
     "output_type": "display_data"
    }
   ],
   "source": [
    "plt.figure(figsize=(7,5))\n",
    "plt.plot([1,2,3,4], pca.explained_variance_ratio_, '-o')\n",
    "plt.ylabel('Principal Component')\n",
    "plt.xlabel('Principal Component')\n",
    "plt.xlim(.75, 4.25)\n",
    "plt.ylim(0, 1.05)\n",
    "plt.xticks([1,2,3,4])"
   ]
  },
  {
   "cell_type": "code",
   "execution_count": 18,
   "metadata": {},
   "outputs": [
    {
     "data": {
      "text/plain": [
       "([<matplotlib.axis.XTick at 0x7ff9ea872ed0>,\n",
       "  <matplotlib.axis.XTick at 0x7ff9ea875b10>,\n",
       "  <matplotlib.axis.XTick at 0x7ff9ea810310>,\n",
       "  <matplotlib.axis.XTick at 0x7ff9ea81eed0>],\n",
       " [Text(0, 0, ''), Text(0, 0, ''), Text(0, 0, ''), Text(0, 0, '')])"
      ]
     },
     "execution_count": 18,
     "metadata": {},
     "output_type": "execute_result"
    },
    {
     "data": {
      "image/png": "[encoded data removed]",
      "text/plain": [
       "<Figure size 504x360 with 1 Axes>"
      ]
     },
     "metadata": {
      "needs_background": "light"
     },
     "output_type": "display_data"
    }
   ],
   "source": [
    "plt.figure(figsize=(7,5))\n",
    "plt.plot([1,2,3,4], np.cumsum(pca.explained_variance_ratio_), '-s')\n",
    "plt.ylabel('Principal Component')\n",
    "plt.xlabel('Principal Component')\n",
    "plt.xlim(.75, 4.25)\n",
    "plt.ylim(0, 1.05)\n",
    "plt.xticks([1,2,3,4])"
   ]
  },
  {
   "cell_type": "markdown",
   "metadata": {},
   "source": [
    "*10.6: NCI60 Data Example*"
   ]
  },
  {
   "cell_type": "code",
   "execution_count": 20,
   "metadata": {},
   "outputs": [
    {
     "name": "stdout",
     "output_type": "stream",
     "text": [
      "<class 'pandas.core.frame.DataFrame'>\n",
      "RangeIndex: 64 entries, 0 to 63\n",
      "Columns: 6830 entries, 0 to 6829\n",
      "dtypes: float64(6830)\n",
      "memory usage: 3.3 MB\n"
     ]
    }
   ],
   "source": [
    "df2 = pd.read_csv('nci60.csv').drop('Unnamed: 0', axis=1)\n",
    "df2.columns = np.arange(df2.columns.size)\n",
    "df2.info()"
   ]
  },
  {
   "cell_type": "code",
   "execution_count": 21,
   "metadata": {},
   "outputs": [],
   "source": [
    "y = pd.read_csv('nci60_y.csv', usecols=[1], skiprows=1, names=['type'])"
   ]
  },
  {
   "cell_type": "markdown",
   "metadata": {},
   "source": [
    "*PCA on the NCI60 Data*"
   ]
  },
  {
   "cell_type": "code",
   "execution_count": 22,
   "metadata": {},
   "outputs": [
    {
     "data": {
      "text/plain": [
       "(64, 6830)"
      ]
     },
     "execution_count": 22,
     "metadata": {},
     "output_type": "execute_result"
    }
   ],
   "source": [
    "X = pd.DataFrame(scale(df2))\n",
    "X.shape"
   ]
  },
  {
   "cell_type": "code",
   "execution_count": 23,
   "metadata": {},
   "outputs": [],
   "source": [
    "pca2 = PCA()\n",
    "df2_plot = pd.DataFrame(pca2.fit_transform(X))"
   ]
  },
  {
   "cell_type": "code",
   "execution_count": 27,
   "metadata": {},
   "outputs": [
    {
     "data": {
      "image/png": "[encoded data removed]",
      "text/plain": [
       "<Figure size 1080x432 with 2 Axes>"
      ]
     },
     "metadata": {
      "needs_background": "light"
     },
     "output_type": "display_data"
    }
   ],
   "source": [
    "fix, (ax1, ax2) = plt.subplots(1,2, figsize=(15,6))\n",
    "\n",
    "color_idx = pd.factorize(y.type)[0]\n",
    "cmap = mpl.cm.hsv\n",
    "\n",
    "ax1.scatter(df2_plot.iloc[:,0], df2_plot.iloc[:,1], c=color_idx, cmap=cmap, alpha=.5, s=50)\n",
    "ax1.set_ylabel('Principal Component 2')\n",
    "\n",
    "ax2.scatter(df2_plot.iloc[:,0], df2_plot.iloc[:,2], c=color_idx, cmap=cmap, alpha=.5, s=50)\n",
    "ax2.set_ylabel('Principal Component 3')\n",
    "\n",
    "handles = []\n",
    "labels = pd.factorize(y.type.unique())\n",
    "norm = mpl.colors.Normalize(vmin=0.0, vmax=14.0)\n",
    "\n",
    "for i, v in zip(labels[0], labels[1]):\n",
    "    handles.append(mpl.patches.Patch(color=cmap(norm(i)), label=v, alpha=.5))\n",
    "\n",
    "ax2.legend(handles=handles, bbox_to_anchor=(1.05, 1), loc=2, borderaxespad=0.)    \n",
    "\n",
    "\n",
    "for ax in fig.axes:\n",
    "    ax.set_xlabel('Principal Component 1')"
   ]
  },
  {
   "cell_type": "code",
   "execution_count": 33,
   "metadata": {},
   "outputs": [
    {
     "data": {
      "text/html": [
       "<div>\n",
       "<style scoped>\n",
       "    .dataframe tbody tr th:only-of-type {\n",
       "        vertical-align: middle;\n",
       "    }\n",
       "\n",
       "    .dataframe tbody tr th {\n",
       "        vertical-align: top;\n",
       "    }\n",
       "\n",
       "    .dataframe thead th {\n",
       "        text-align: right;\n",
       "    }\n",
       "</style>\n",
       "<table border=\"1\" class=\"dataframe\">\n",
       "  <thead>\n",
       "    <tr style=\"text-align: right;\">\n",
       "      <th></th>\n",
       "      <th>PC1</th>\n",
       "      <th>PC2</th>\n",
       "      <th>PC3</th>\n",
       "      <th>PC4</th>\n",
       "      <th>PC5</th>\n",
       "    </tr>\n",
       "  </thead>\n",
       "  <tbody>\n",
       "    <tr>\n",
       "      <th>Std dev</th>\n",
       "      <td>27.853469</td>\n",
       "      <td>21.481355</td>\n",
       "      <td>19.820465</td>\n",
       "      <td>17.032556</td>\n",
       "      <td>15.971807</td>\n",
       "    </tr>\n",
       "    <tr>\n",
       "      <th>Proportion of Variance</th>\n",
       "      <td>0.113589</td>\n",
       "      <td>0.067562</td>\n",
       "      <td>0.057518</td>\n",
       "      <td>0.042476</td>\n",
       "      <td>0.037350</td>\n",
       "    </tr>\n",
       "    <tr>\n",
       "      <th>Cumulative Proportion</th>\n",
       "      <td>0.113589</td>\n",
       "      <td>0.181151</td>\n",
       "      <td>0.238670</td>\n",
       "      <td>0.281145</td>\n",
       "      <td>0.318495</td>\n",
       "    </tr>\n",
       "  </tbody>\n",
       "</table>\n",
       "</div>"
      ],
      "text/plain": [
       "                              PC1        PC2        PC3        PC4        PC5\n",
       "Std dev                 27.853469  21.481355  19.820465  17.032556  15.971807\n",
       "Proportion of Variance   0.113589   0.067562   0.057518   0.042476   0.037350\n",
       "Cumulative Proportion    0.113589   0.181151   0.238670   0.281145   0.318495"
      ]
     },
     "execution_count": 33,
     "metadata": {},
     "output_type": "execute_result"
    }
   ],
   "source": [
    "pd.DataFrame([df2_plot.iloc[:,:5].std(axis=0, ddof=0).to_numpy(),\\\n",
    "             pca2.explained_variance_ratio_[:5],\\\n",
    "             np.cumsum(pca2.explained_variance_ratio_[:5])],\\\n",
    "             index=['Std dev', 'Proportion of Variance', 'Cumulative Proportion'],\\\n",
    "             columns=['PC1', 'PC2', 'PC3', 'PC4', 'PC5'])"
   ]
  },
  {
   "cell_type": "code",
   "execution_count": 35,
   "metadata": {},
   "outputs": [
    {
     "data": {
      "image/png": "[encoded data removed]",
      "text/plain": [
       "<Figure size 1080x432 with 2 Axes>"
      ]
     },
     "metadata": {
      "needs_background": "light"
     },
     "output_type": "display_data"
    }
   ],
   "source": [
    "fig, (ax1, ax2) = plt.subplots(1,2, figsize=(15,6))\n",
    "\n",
    "# Left plot\n",
    "ax1.plot(pca2.explained_variance_ratio_, '-o')\n",
    "ax1.set_ylabel('Proportion of Variance Explained')\n",
    "ax1.set_ylim(ymin=-0.01)\n",
    "\n",
    "# Right plot\n",
    "ax2.plot(np.cumsum(pca2.explained_variance_ratio_), '-ro')\n",
    "ax2.set_ylabel('Cummulative Proportion of Variance Explained')\n",
    "ax2.set_ylim(ymax=1.05)\n",
    "\n",
    "for ax in fig.axes:\n",
    "    ax.set_xlabel('Principal Component')\n",
    "    ax.set_xlim(-1.65)"
   ]
  },
  {
   "cell_type": "markdown",
   "metadata": {},
   "source": [
    "## Zadanie 2"
   ]
  },
  {
   "cell_type": "code",
   "execution_count": 16,
   "metadata": {},
   "outputs": [],
   "source": [
    "import pandas as pd\n",
    "import numpy as np\n",
    "import matplotlib.pyplot as plt\n",
    "from sklearn.decomposition import PCA"
   ]
  },
  {
   "cell_type": "code",
   "execution_count": 17,
   "metadata": {},
   "outputs": [],
   "source": [
    "from sklearn.datasets import load_wine, fetch_kddcup99"
   ]
  },
  {
   "cell_type": "markdown",
   "metadata": {},
   "source": [
    "*Ex. 1*"
   ]
  },
  {
   "cell_type": "code",
   "execution_count": 18,
   "metadata": {},
   "outputs": [],
   "source": [
    "data = load_wine()"
   ]
  },
  {
   "cell_type": "code",
   "execution_count": 19,
   "metadata": {},
   "outputs": [],
   "source": [
    "df = pd.DataFrame(data.data)"
   ]
  },
  {
   "cell_type": "code",
   "execution_count": 20,
   "metadata": {},
   "outputs": [
    {
     "data": {
      "text/html": [
       "<div>\n",
       "<style scoped>\n",
       "    .dataframe tbody tr th:only-of-type {\n",
       "        vertical-align: middle;\n",
       "    }\n",
       "\n",
       "    .dataframe tbody tr th {\n",
       "        vertical-align: top;\n",
       "    }\n",
       "\n",
       "    .dataframe thead th {\n",
       "        text-align: right;\n",
       "    }\n",
       "</style>\n",
       "<table border=\"1\" class=\"dataframe\">\n",
       "  <thead>\n",
       "    <tr style=\"text-align: right;\">\n",
       "      <th></th>\n",
       "      <th>0</th>\n",
       "      <th>1</th>\n",
       "      <th>2</th>\n",
       "      <th>3</th>\n",
       "      <th>4</th>\n",
       "      <th>5</th>\n",
       "      <th>6</th>\n",
       "      <th>7</th>\n",
       "      <th>8</th>\n",
       "      <th>9</th>\n",
       "      <th>10</th>\n",
       "      <th>11</th>\n",
       "      <th>12</th>\n",
       "    </tr>\n",
       "  </thead>\n",
       "  <tbody>\n",
       "    <tr>\n",
       "      <th>count</th>\n",
       "      <td>178.000000</td>\n",
       "      <td>178.000000</td>\n",
       "      <td>178.000000</td>\n",
       "      <td>178.000000</td>\n",
       "      <td>178.000000</td>\n",
       "      <td>178.000000</td>\n",
       "      <td>178.000000</td>\n",
       "      <td>178.000000</td>\n",
       "      <td>178.000000</td>\n",
       "      <td>178.000000</td>\n",
       "      <td>178.000000</td>\n",
       "      <td>178.000000</td>\n",
       "      <td>178.000000</td>\n",
       "    </tr>\n",
       "    <tr>\n",
       "      <th>mean</th>\n",
       "      <td>13.000618</td>\n",
       "      <td>2.336348</td>\n",
       "      <td>2.366517</td>\n",
       "      <td>19.494944</td>\n",
       "      <td>99.741573</td>\n",
       "      <td>2.295112</td>\n",
       "      <td>2.029270</td>\n",
       "      <td>0.361854</td>\n",
       "      <td>1.590899</td>\n",
       "      <td>5.058090</td>\n",
       "      <td>0.957449</td>\n",
       "      <td>2.611685</td>\n",
       "      <td>746.893258</td>\n",
       "    </tr>\n",
       "    <tr>\n",
       "      <th>std</th>\n",
       "      <td>0.811827</td>\n",
       "      <td>1.117146</td>\n",
       "      <td>0.274344</td>\n",
       "      <td>3.339564</td>\n",
       "      <td>14.282484</td>\n",
       "      <td>0.625851</td>\n",
       "      <td>0.998859</td>\n",
       "      <td>0.124453</td>\n",
       "      <td>0.572359</td>\n",
       "      <td>2.318286</td>\n",
       "      <td>0.228572</td>\n",
       "      <td>0.709990</td>\n",
       "      <td>314.907474</td>\n",
       "    </tr>\n",
       "    <tr>\n",
       "      <th>min</th>\n",
       "      <td>11.030000</td>\n",
       "      <td>0.740000</td>\n",
       "      <td>1.360000</td>\n",
       "      <td>10.600000</td>\n",
       "      <td>70.000000</td>\n",
       "      <td>0.980000</td>\n",
       "      <td>0.340000</td>\n",
       "      <td>0.130000</td>\n",
       "      <td>0.410000</td>\n",
       "      <td>1.280000</td>\n",
       "      <td>0.480000</td>\n",
       "      <td>1.270000</td>\n",
       "      <td>278.000000</td>\n",
       "    </tr>\n",
       "    <tr>\n",
       "      <th>25%</th>\n",
       "      <td>12.362500</td>\n",
       "      <td>1.602500</td>\n",
       "      <td>2.210000</td>\n",
       "      <td>17.200000</td>\n",
       "      <td>88.000000</td>\n",
       "      <td>1.742500</td>\n",
       "      <td>1.205000</td>\n",
       "      <td>0.270000</td>\n",
       "      <td>1.250000</td>\n",
       "      <td>3.220000</td>\n",
       "      <td>0.782500</td>\n",
       "      <td>1.937500</td>\n",
       "      <td>500.500000</td>\n",
       "    </tr>\n",
       "    <tr>\n",
       "      <th>50%</th>\n",
       "      <td>13.050000</td>\n",
       "      <td>1.865000</td>\n",
       "      <td>2.360000</td>\n",
       "      <td>19.500000</td>\n",
       "      <td>98.000000</td>\n",
       "      <td>2.355000</td>\n",
       "      <td>2.135000</td>\n",
       "      <td>0.340000</td>\n",
       "      <td>1.555000</td>\n",
       "      <td>4.690000</td>\n",
       "      <td>0.965000</td>\n",
       "      <td>2.780000</td>\n",
       "      <td>673.500000</td>\n",
       "    </tr>\n",
       "    <tr>\n",
       "      <th>75%</th>\n",
       "      <td>13.677500</td>\n",
       "      <td>3.082500</td>\n",
       "      <td>2.557500</td>\n",
       "      <td>21.500000</td>\n",
       "      <td>107.000000</td>\n",
       "      <td>2.800000</td>\n",
       "      <td>2.875000</td>\n",
       "      <td>0.437500</td>\n",
       "      <td>1.950000</td>\n",
       "      <td>6.200000</td>\n",
       "      <td>1.120000</td>\n",
       "      <td>3.170000</td>\n",
       "      <td>985.000000</td>\n",
       "    </tr>\n",
       "    <tr>\n",
       "      <th>max</th>\n",
       "      <td>14.830000</td>\n",
       "      <td>5.800000</td>\n",
       "      <td>3.230000</td>\n",
       "      <td>30.000000</td>\n",
       "      <td>162.000000</td>\n",
       "      <td>3.880000</td>\n",
       "      <td>5.080000</td>\n",
       "      <td>0.660000</td>\n",
       "      <td>3.580000</td>\n",
       "      <td>13.000000</td>\n",
       "      <td>1.710000</td>\n",
       "      <td>4.000000</td>\n",
       "      <td>1680.000000</td>\n",
       "    </tr>\n",
       "  </tbody>\n",
       "</table>\n",
       "</div>"
      ],
      "text/plain": [
       "               0           1           2           3           4           5   \\\n",
       "count  178.000000  178.000000  178.000000  178.000000  178.000000  178.000000   \n",
       "mean    13.000618    2.336348    2.366517   19.494944   99.741573    2.295112   \n",
       "std      0.811827    1.117146    0.274344    3.339564   14.282484    0.625851   \n",
       "min     11.030000    0.740000    1.360000   10.600000   70.000000    0.980000   \n",
       "25%     12.362500    1.602500    2.210000   17.200000   88.000000    1.742500   \n",
       "50%     13.050000    1.865000    2.360000   19.500000   98.000000    2.355000   \n",
       "75%     13.677500    3.082500    2.557500   21.500000  107.000000    2.800000   \n",
       "max     14.830000    5.800000    3.230000   30.000000  162.000000    3.880000   \n",
       "\n",
       "               6           7           8           9           10          11  \\\n",
       "count  178.000000  178.000000  178.000000  178.000000  178.000000  178.000000   \n",
       "mean     2.029270    0.361854    1.590899    5.058090    0.957449    2.611685   \n",
       "std      0.998859    0.124453    0.572359    2.318286    0.228572    0.709990   \n",
       "min      0.340000    0.130000    0.410000    1.280000    0.480000    1.270000   \n",
       "25%      1.205000    0.270000    1.250000    3.220000    0.782500    1.937500   \n",
       "50%      2.135000    0.340000    1.555000    4.690000    0.965000    2.780000   \n",
       "75%      2.875000    0.437500    1.950000    6.200000    1.120000    3.170000   \n",
       "max      5.080000    0.660000    3.580000   13.000000    1.710000    4.000000   \n",
       "\n",
       "                12  \n",
       "count   178.000000  \n",
       "mean    746.893258  \n",
       "std     314.907474  \n",
       "min     278.000000  \n",
       "25%     500.500000  \n",
       "50%     673.500000  \n",
       "75%     985.000000  \n",
       "max    1680.000000  "
      ]
     },
     "execution_count": 20,
     "metadata": {},
     "output_type": "execute_result"
    }
   ],
   "source": [
    "df.describe()"
   ]
  },
  {
   "cell_type": "code",
   "execution_count": 21,
   "metadata": {},
   "outputs": [
    {
     "data": {
      "text/html": [
       "<div>\n",
       "<style scoped>\n",
       "    .dataframe tbody tr th:only-of-type {\n",
       "        vertical-align: middle;\n",
       "    }\n",
       "\n",
       "    .dataframe tbody tr th {\n",
       "        vertical-align: top;\n",
       "    }\n",
       "\n",
       "    .dataframe thead th {\n",
       "        text-align: right;\n",
       "    }\n",
       "</style>\n",
       "<table border=\"1\" class=\"dataframe\">\n",
       "  <thead>\n",
       "    <tr style=\"text-align: right;\">\n",
       "      <th></th>\n",
       "      <th>0</th>\n",
       "      <th>1</th>\n",
       "      <th>2</th>\n",
       "      <th>3</th>\n",
       "      <th>4</th>\n",
       "      <th>5</th>\n",
       "      <th>6</th>\n",
       "      <th>7</th>\n",
       "      <th>8</th>\n",
       "      <th>9</th>\n",
       "      <th>10</th>\n",
       "      <th>11</th>\n",
       "      <th>12</th>\n",
       "    </tr>\n",
       "  </thead>\n",
       "  <tbody>\n",
       "    <tr>\n",
       "      <th>0</th>\n",
       "      <td>14.23</td>\n",
       "      <td>1.71</td>\n",
       "      <td>2.43</td>\n",
       "      <td>15.6</td>\n",
       "      <td>127.0</td>\n",
       "      <td>2.80</td>\n",
       "      <td>3.06</td>\n",
       "      <td>0.28</td>\n",
       "      <td>2.29</td>\n",
       "      <td>5.64</td>\n",
       "      <td>1.04</td>\n",
       "      <td>3.92</td>\n",
       "      <td>1065.0</td>\n",
       "    </tr>\n",
       "    <tr>\n",
       "      <th>1</th>\n",
       "      <td>13.20</td>\n",
       "      <td>1.78</td>\n",
       "      <td>2.14</td>\n",
       "      <td>11.2</td>\n",
       "      <td>100.0</td>\n",
       "      <td>2.65</td>\n",
       "      <td>2.76</td>\n",
       "      <td>0.26</td>\n",
       "      <td>1.28</td>\n",
       "      <td>4.38</td>\n",
       "      <td>1.05</td>\n",
       "      <td>3.40</td>\n",
       "      <td>1050.0</td>\n",
       "    </tr>\n",
       "    <tr>\n",
       "      <th>2</th>\n",
       "      <td>13.16</td>\n",
       "      <td>2.36</td>\n",
       "      <td>2.67</td>\n",
       "      <td>18.6</td>\n",
       "      <td>101.0</td>\n",
       "      <td>2.80</td>\n",
       "      <td>3.24</td>\n",
       "      <td>0.30</td>\n",
       "      <td>2.81</td>\n",
       "      <td>5.68</td>\n",
       "      <td>1.03</td>\n",
       "      <td>3.17</td>\n",
       "      <td>1185.0</td>\n",
       "    </tr>\n",
       "    <tr>\n",
       "      <th>3</th>\n",
       "      <td>14.37</td>\n",
       "      <td>1.95</td>\n",
       "      <td>2.50</td>\n",
       "      <td>16.8</td>\n",
       "      <td>113.0</td>\n",
       "      <td>3.85</td>\n",
       "      <td>3.49</td>\n",
       "      <td>0.24</td>\n",
       "      <td>2.18</td>\n",
       "      <td>7.80</td>\n",
       "      <td>0.86</td>\n",
       "      <td>3.45</td>\n",
       "      <td>1480.0</td>\n",
       "    </tr>\n",
       "    <tr>\n",
       "      <th>4</th>\n",
       "      <td>13.24</td>\n",
       "      <td>2.59</td>\n",
       "      <td>2.87</td>\n",
       "      <td>21.0</td>\n",
       "      <td>118.0</td>\n",
       "      <td>2.80</td>\n",
       "      <td>2.69</td>\n",
       "      <td>0.39</td>\n",
       "      <td>1.82</td>\n",
       "      <td>4.32</td>\n",
       "      <td>1.04</td>\n",
       "      <td>2.93</td>\n",
       "      <td>735.0</td>\n",
       "    </tr>\n",
       "    <tr>\n",
       "      <th>...</th>\n",
       "      <td>...</td>\n",
       "      <td>...</td>\n",
       "      <td>...</td>\n",
       "      <td>...</td>\n",
       "      <td>...</td>\n",
       "      <td>...</td>\n",
       "      <td>...</td>\n",
       "      <td>...</td>\n",
       "      <td>...</td>\n",
       "      <td>...</td>\n",
       "      <td>...</td>\n",
       "      <td>...</td>\n",
       "      <td>...</td>\n",
       "    </tr>\n",
       "    <tr>\n",
       "      <th>173</th>\n",
       "      <td>13.71</td>\n",
       "      <td>5.65</td>\n",
       "      <td>2.45</td>\n",
       "      <td>20.5</td>\n",
       "      <td>95.0</td>\n",
       "      <td>1.68</td>\n",
       "      <td>0.61</td>\n",
       "      <td>0.52</td>\n",
       "      <td>1.06</td>\n",
       "      <td>7.70</td>\n",
       "      <td>0.64</td>\n",
       "      <td>1.74</td>\n",
       "      <td>740.0</td>\n",
       "    </tr>\n",
       "    <tr>\n",
       "      <th>174</th>\n",
       "      <td>13.40</td>\n",
       "      <td>3.91</td>\n",
       "      <td>2.48</td>\n",
       "      <td>23.0</td>\n",
       "      <td>102.0</td>\n",
       "      <td>1.80</td>\n",
       "      <td>0.75</td>\n",
       "      <td>0.43</td>\n",
       "      <td>1.41</td>\n",
       "      <td>7.30</td>\n",
       "      <td>0.70</td>\n",
       "      <td>1.56</td>\n",
       "      <td>750.0</td>\n",
       "    </tr>\n",
       "    <tr>\n",
       "      <th>175</th>\n",
       "      <td>13.27</td>\n",
       "      <td>4.28</td>\n",
       "      <td>2.26</td>\n",
       "      <td>20.0</td>\n",
       "      <td>120.0</td>\n",
       "      <td>1.59</td>\n",
       "      <td>0.69</td>\n",
       "      <td>0.43</td>\n",
       "      <td>1.35</td>\n",
       "      <td>10.20</td>\n",
       "      <td>0.59</td>\n",
       "      <td>1.56</td>\n",
       "      <td>835.0</td>\n",
       "    </tr>\n",
       "    <tr>\n",
       "      <th>176</th>\n",
       "      <td>13.17</td>\n",
       "      <td>2.59</td>\n",
       "      <td>2.37</td>\n",
       "      <td>20.0</td>\n",
       "      <td>120.0</td>\n",
       "      <td>1.65</td>\n",
       "      <td>0.68</td>\n",
       "      <td>0.53</td>\n",
       "      <td>1.46</td>\n",
       "      <td>9.30</td>\n",
       "      <td>0.60</td>\n",
       "      <td>1.62</td>\n",
       "      <td>840.0</td>\n",
       "    </tr>\n",
       "    <tr>\n",
       "      <th>177</th>\n",
       "      <td>14.13</td>\n",
       "      <td>4.10</td>\n",
       "      <td>2.74</td>\n",
       "      <td>24.5</td>\n",
       "      <td>96.0</td>\n",
       "      <td>2.05</td>\n",
       "      <td>0.76</td>\n",
       "      <td>0.56</td>\n",
       "      <td>1.35</td>\n",
       "      <td>9.20</td>\n",
       "      <td>0.61</td>\n",
       "      <td>1.60</td>\n",
       "      <td>560.0</td>\n",
       "    </tr>\n",
       "  </tbody>\n",
       "</table>\n",
       "<p>178 rows × 13 columns</p>\n",
       "</div>"
      ],
      "text/plain": [
       "        0     1     2     3      4     5     6     7     8      9     10  \\\n",
       "0    14.23  1.71  2.43  15.6  127.0  2.80  3.06  0.28  2.29   5.64  1.04   \n",
       "1    13.20  1.78  2.14  11.2  100.0  2.65  2.76  0.26  1.28   4.38  1.05   \n",
       "2    13.16  2.36  2.67  18.6  101.0  2.80  3.24  0.30  2.81   5.68  1.03   \n",
       "3    14.37  1.95  2.50  16.8  113.0  3.85  3.49  0.24  2.18   7.80  0.86   \n",
       "4    13.24  2.59  2.87  21.0  118.0  2.80  2.69  0.39  1.82   4.32  1.04   \n",
       "..     ...   ...   ...   ...    ...   ...   ...   ...   ...    ...   ...   \n",
       "173  13.71  5.65  2.45  20.5   95.0  1.68  0.61  0.52  1.06   7.70  0.64   \n",
       "174  13.40  3.91  2.48  23.0  102.0  1.80  0.75  0.43  1.41   7.30  0.70   \n",
       "175  13.27  4.28  2.26  20.0  120.0  1.59  0.69  0.43  1.35  10.20  0.59   \n",
       "176  13.17  2.59  2.37  20.0  120.0  1.65  0.68  0.53  1.46   9.30  0.60   \n",
       "177  14.13  4.10  2.74  24.5   96.0  2.05  0.76  0.56  1.35   9.20  0.61   \n",
       "\n",
       "       11      12  \n",
       "0    3.92  1065.0  \n",
       "1    3.40  1050.0  \n",
       "2    3.17  1185.0  \n",
       "3    3.45  1480.0  \n",
       "4    2.93   735.0  \n",
       "..    ...     ...  \n",
       "173  1.74   740.0  \n",
       "174  1.56   750.0  \n",
       "175  1.56   835.0  \n",
       "176  1.62   840.0  \n",
       "177  1.60   560.0  \n",
       "\n",
       "[178 rows x 13 columns]"
      ]
     },
     "execution_count": 21,
     "metadata": {},
     "output_type": "execute_result"
    }
   ],
   "source": [
    "df"
   ]
  },
  {
   "cell_type": "code",
   "execution_count": 22,
   "metadata": {},
   "outputs": [],
   "source": [
    "df[0] = pd.to_numeric(df[0], errors='coerce')\n",
    "df[1] = pd.to_numeric(df[1], errors='coerce')"
   ]
  },
  {
   "cell_type": "code",
   "execution_count": 23,
   "metadata": {},
   "outputs": [
    {
     "data": {
      "text/html": [
       "<div>\n",
       "<style scoped>\n",
       "    .dataframe tbody tr th:only-of-type {\n",
       "        vertical-align: middle;\n",
       "    }\n",
       "\n",
       "    .dataframe tbody tr th {\n",
       "        vertical-align: top;\n",
       "    }\n",
       "\n",
       "    .dataframe thead th {\n",
       "        text-align: right;\n",
       "    }\n",
       "</style>\n",
       "<table border=\"1\" class=\"dataframe\">\n",
       "  <thead>\n",
       "    <tr style=\"text-align: right;\">\n",
       "      <th></th>\n",
       "      <th>0</th>\n",
       "      <th>1</th>\n",
       "      <th>2</th>\n",
       "      <th>3</th>\n",
       "      <th>4</th>\n",
       "      <th>5</th>\n",
       "      <th>6</th>\n",
       "      <th>7</th>\n",
       "      <th>8</th>\n",
       "      <th>9</th>\n",
       "      <th>10</th>\n",
       "      <th>11</th>\n",
       "      <th>12</th>\n",
       "    </tr>\n",
       "  </thead>\n",
       "  <tbody>\n",
       "    <tr>\n",
       "      <th>count</th>\n",
       "      <td>178.000000</td>\n",
       "      <td>178.000000</td>\n",
       "      <td>178.000000</td>\n",
       "      <td>178.000000</td>\n",
       "      <td>178.000000</td>\n",
       "      <td>178.000000</td>\n",
       "      <td>178.000000</td>\n",
       "      <td>178.000000</td>\n",
       "      <td>178.000000</td>\n",
       "      <td>178.000000</td>\n",
       "      <td>178.000000</td>\n",
       "      <td>178.000000</td>\n",
       "      <td>178.000000</td>\n",
       "    </tr>\n",
       "    <tr>\n",
       "      <th>mean</th>\n",
       "      <td>13.000618</td>\n",
       "      <td>2.336348</td>\n",
       "      <td>2.366517</td>\n",
       "      <td>19.494944</td>\n",
       "      <td>99.741573</td>\n",
       "      <td>2.295112</td>\n",
       "      <td>2.029270</td>\n",
       "      <td>0.361854</td>\n",
       "      <td>1.590899</td>\n",
       "      <td>5.058090</td>\n",
       "      <td>0.957449</td>\n",
       "      <td>2.611685</td>\n",
       "      <td>746.893258</td>\n",
       "    </tr>\n",
       "    <tr>\n",
       "      <th>std</th>\n",
       "      <td>0.811827</td>\n",
       "      <td>1.117146</td>\n",
       "      <td>0.274344</td>\n",
       "      <td>3.339564</td>\n",
       "      <td>14.282484</td>\n",
       "      <td>0.625851</td>\n",
       "      <td>0.998859</td>\n",
       "      <td>0.124453</td>\n",
       "      <td>0.572359</td>\n",
       "      <td>2.318286</td>\n",
       "      <td>0.228572</td>\n",
       "      <td>0.709990</td>\n",
       "      <td>314.907474</td>\n",
       "    </tr>\n",
       "    <tr>\n",
       "      <th>min</th>\n",
       "      <td>11.030000</td>\n",
       "      <td>0.740000</td>\n",
       "      <td>1.360000</td>\n",
       "      <td>10.600000</td>\n",
       "      <td>70.000000</td>\n",
       "      <td>0.980000</td>\n",
       "      <td>0.340000</td>\n",
       "      <td>0.130000</td>\n",
       "      <td>0.410000</td>\n",
       "      <td>1.280000</td>\n",
       "      <td>0.480000</td>\n",
       "      <td>1.270000</td>\n",
       "      <td>278.000000</td>\n",
       "    </tr>\n",
       "    <tr>\n",
       "      <th>25%</th>\n",
       "      <td>12.362500</td>\n",
       "      <td>1.602500</td>\n",
       "      <td>2.210000</td>\n",
       "      <td>17.200000</td>\n",
       "      <td>88.000000</td>\n",
       "      <td>1.742500</td>\n",
       "      <td>1.205000</td>\n",
       "      <td>0.270000</td>\n",
       "      <td>1.250000</td>\n",
       "      <td>3.220000</td>\n",
       "      <td>0.782500</td>\n",
       "      <td>1.937500</td>\n",
       "      <td>500.500000</td>\n",
       "    </tr>\n",
       "    <tr>\n",
       "      <th>50%</th>\n",
       "      <td>13.050000</td>\n",
       "      <td>1.865000</td>\n",
       "      <td>2.360000</td>\n",
       "      <td>19.500000</td>\n",
       "      <td>98.000000</td>\n",
       "      <td>2.355000</td>\n",
       "      <td>2.135000</td>\n",
       "      <td>0.340000</td>\n",
       "      <td>1.555000</td>\n",
       "      <td>4.690000</td>\n",
       "      <td>0.965000</td>\n",
       "      <td>2.780000</td>\n",
       "      <td>673.500000</td>\n",
       "    </tr>\n",
       "    <tr>\n",
       "      <th>75%</th>\n",
       "      <td>13.677500</td>\n",
       "      <td>3.082500</td>\n",
       "      <td>2.557500</td>\n",
       "      <td>21.500000</td>\n",
       "      <td>107.000000</td>\n",
       "      <td>2.800000</td>\n",
       "      <td>2.875000</td>\n",
       "      <td>0.437500</td>\n",
       "      <td>1.950000</td>\n",
       "      <td>6.200000</td>\n",
       "      <td>1.120000</td>\n",
       "      <td>3.170000</td>\n",
       "      <td>985.000000</td>\n",
       "    </tr>\n",
       "    <tr>\n",
       "      <th>max</th>\n",
       "      <td>14.830000</td>\n",
       "      <td>5.800000</td>\n",
       "      <td>3.230000</td>\n",
       "      <td>30.000000</td>\n",
       "      <td>162.000000</td>\n",
       "      <td>3.880000</td>\n",
       "      <td>5.080000</td>\n",
       "      <td>0.660000</td>\n",
       "      <td>3.580000</td>\n",
       "      <td>13.000000</td>\n",
       "      <td>1.710000</td>\n",
       "      <td>4.000000</td>\n",
       "      <td>1680.000000</td>\n",
       "    </tr>\n",
       "  </tbody>\n",
       "</table>\n",
       "</div>"
      ],
      "text/plain": [
       "               0           1           2           3           4           5   \\\n",
       "count  178.000000  178.000000  178.000000  178.000000  178.000000  178.000000   \n",
       "mean    13.000618    2.336348    2.366517   19.494944   99.741573    2.295112   \n",
       "std      0.811827    1.117146    0.274344    3.339564   14.282484    0.625851   \n",
       "min     11.030000    0.740000    1.360000   10.600000   70.000000    0.980000   \n",
       "25%     12.362500    1.602500    2.210000   17.200000   88.000000    1.742500   \n",
       "50%     13.050000    1.865000    2.360000   19.500000   98.000000    2.355000   \n",
       "75%     13.677500    3.082500    2.557500   21.500000  107.000000    2.800000   \n",
       "max     14.830000    5.800000    3.230000   30.000000  162.000000    3.880000   \n",
       "\n",
       "               6           7           8           9           10          11  \\\n",
       "count  178.000000  178.000000  178.000000  178.000000  178.000000  178.000000   \n",
       "mean     2.029270    0.361854    1.590899    5.058090    0.957449    2.611685   \n",
       "std      0.998859    0.124453    0.572359    2.318286    0.228572    0.709990   \n",
       "min      0.340000    0.130000    0.410000    1.280000    0.480000    1.270000   \n",
       "25%      1.205000    0.270000    1.250000    3.220000    0.782500    1.937500   \n",
       "50%      2.135000    0.340000    1.555000    4.690000    0.965000    2.780000   \n",
       "75%      2.875000    0.437500    1.950000    6.200000    1.120000    3.170000   \n",
       "max      5.080000    0.660000    3.580000   13.000000    1.710000    4.000000   \n",
       "\n",
       "                12  \n",
       "count   178.000000  \n",
       "mean    746.893258  \n",
       "std     314.907474  \n",
       "min     278.000000  \n",
       "25%     500.500000  \n",
       "50%     673.500000  \n",
       "75%     985.000000  \n",
       "max    1680.000000  "
      ]
     },
     "execution_count": 23,
     "metadata": {},
     "output_type": "execute_result"
    }
   ],
   "source": [
    "df.describe()"
   ]
  },
  {
   "cell_type": "code",
   "execution_count": 24,
   "metadata": {},
   "outputs": [
    {
     "data": {
      "text/plain": [
       "0     float64\n",
       "1     float64\n",
       "2     float64\n",
       "3     float64\n",
       "4     float64\n",
       "5     float64\n",
       "6     float64\n",
       "7     float64\n",
       "8     float64\n",
       "9     float64\n",
       "10    float64\n",
       "11    float64\n",
       "12    float64\n",
       "dtype: object"
      ]
     },
     "execution_count": 24,
     "metadata": {},
     "output_type": "execute_result"
    }
   ],
   "source": [
    "df.dtypes"
   ]
  },
  {
   "cell_type": "code",
   "execution_count": 25,
   "metadata": {},
   "outputs": [
    {
     "data": {
      "text/plain": [
       "0     0\n",
       "1     0\n",
       "2     0\n",
       "3     0\n",
       "4     0\n",
       "5     0\n",
       "6     0\n",
       "7     0\n",
       "8     0\n",
       "9     0\n",
       "10    0\n",
       "11    0\n",
       "12    0\n",
       "dtype: int64"
      ]
     },
     "execution_count": 25,
     "metadata": {},
     "output_type": "execute_result"
    }
   ],
   "source": [
    "df.isnull().sum()"
   ]
  },
  {
   "cell_type": "code",
   "execution_count": 26,
   "metadata": {},
   "outputs": [],
   "source": [
    "from sklearn.preprocessing import StandardScaler"
   ]
  },
  {
   "cell_type": "code",
   "execution_count": 27,
   "metadata": {},
   "outputs": [],
   "source": [
    "df_scaled = pd.DataFrame(StandardScaler().fit_transform(df), columns=df.columns)"
   ]
  },
  {
   "cell_type": "code",
   "execution_count": 28,
   "metadata": {},
   "outputs": [
    {
     "data": {
      "text/html": [
       "<div>\n",
       "<style scoped>\n",
       "    .dataframe tbody tr th:only-of-type {\n",
       "        vertical-align: middle;\n",
       "    }\n",
       "\n",
       "    .dataframe tbody tr th {\n",
       "        vertical-align: top;\n",
       "    }\n",
       "\n",
       "    .dataframe thead th {\n",
       "        text-align: right;\n",
       "    }\n",
       "</style>\n",
       "<table border=\"1\" class=\"dataframe\">\n",
       "  <thead>\n",
       "    <tr style=\"text-align: right;\">\n",
       "      <th></th>\n",
       "      <th>0</th>\n",
       "      <th>1</th>\n",
       "      <th>2</th>\n",
       "      <th>3</th>\n",
       "      <th>4</th>\n",
       "      <th>5</th>\n",
       "      <th>6</th>\n",
       "      <th>7</th>\n",
       "      <th>8</th>\n",
       "      <th>9</th>\n",
       "      <th>10</th>\n",
       "      <th>11</th>\n",
       "      <th>12</th>\n",
       "    </tr>\n",
       "  </thead>\n",
       "  <tbody>\n",
       "    <tr>\n",
       "      <th>count</th>\n",
       "      <td>1.780000e+02</td>\n",
       "      <td>1.780000e+02</td>\n",
       "      <td>1.780000e+02</td>\n",
       "      <td>1.780000e+02</td>\n",
       "      <td>1.780000e+02</td>\n",
       "      <td>1.780000e+02</td>\n",
       "      <td>1.780000e+02</td>\n",
       "      <td>1.780000e+02</td>\n",
       "      <td>1.780000e+02</td>\n",
       "      <td>1.780000e+02</td>\n",
       "      <td>1.780000e+02</td>\n",
       "      <td>1.780000e+02</td>\n",
       "      <td>1.780000e+02</td>\n",
       "    </tr>\n",
       "    <tr>\n",
       "      <th>mean</th>\n",
       "      <td>7.943708e-15</td>\n",
       "      <td>3.592632e-16</td>\n",
       "      <td>-4.066660e-15</td>\n",
       "      <td>-7.983626e-17</td>\n",
       "      <td>-7.983626e-17</td>\n",
       "      <td>-3.991813e-17</td>\n",
       "      <td>9.979533e-16</td>\n",
       "      <td>-5.588538e-16</td>\n",
       "      <td>-1.656602e-15</td>\n",
       "      <td>-3.442939e-16</td>\n",
       "      <td>1.636643e-15</td>\n",
       "      <td>2.235415e-15</td>\n",
       "      <td>-1.197544e-16</td>\n",
       "    </tr>\n",
       "    <tr>\n",
       "      <th>std</th>\n",
       "      <td>1.002821e+00</td>\n",
       "      <td>1.002821e+00</td>\n",
       "      <td>1.002821e+00</td>\n",
       "      <td>1.002821e+00</td>\n",
       "      <td>1.002821e+00</td>\n",
       "      <td>1.002821e+00</td>\n",
       "      <td>1.002821e+00</td>\n",
       "      <td>1.002821e+00</td>\n",
       "      <td>1.002821e+00</td>\n",
       "      <td>1.002821e+00</td>\n",
       "      <td>1.002821e+00</td>\n",
       "      <td>1.002821e+00</td>\n",
       "      <td>1.002821e+00</td>\n",
       "    </tr>\n",
       "    <tr>\n",
       "      <th>min</th>\n",
       "      <td>-2.434235e+00</td>\n",
       "      <td>-1.432983e+00</td>\n",
       "      <td>-3.679162e+00</td>\n",
       "      <td>-2.671018e+00</td>\n",
       "      <td>-2.088255e+00</td>\n",
       "      <td>-2.107246e+00</td>\n",
       "      <td>-1.695971e+00</td>\n",
       "      <td>-1.868234e+00</td>\n",
       "      <td>-2.069034e+00</td>\n",
       "      <td>-1.634288e+00</td>\n",
       "      <td>-2.094732e+00</td>\n",
       "      <td>-1.895054e+00</td>\n",
       "      <td>-1.493188e+00</td>\n",
       "    </tr>\n",
       "    <tr>\n",
       "      <th>25%</th>\n",
       "      <td>-7.882448e-01</td>\n",
       "      <td>-6.587486e-01</td>\n",
       "      <td>-5.721225e-01</td>\n",
       "      <td>-6.891372e-01</td>\n",
       "      <td>-8.244151e-01</td>\n",
       "      <td>-8.854682e-01</td>\n",
       "      <td>-8.275393e-01</td>\n",
       "      <td>-7.401412e-01</td>\n",
       "      <td>-5.972835e-01</td>\n",
       "      <td>-7.951025e-01</td>\n",
       "      <td>-7.675624e-01</td>\n",
       "      <td>-9.522483e-01</td>\n",
       "      <td>-7.846378e-01</td>\n",
       "    </tr>\n",
       "    <tr>\n",
       "      <th>50%</th>\n",
       "      <td>6.099988e-02</td>\n",
       "      <td>-4.231120e-01</td>\n",
       "      <td>-2.382132e-02</td>\n",
       "      <td>1.518295e-03</td>\n",
       "      <td>-1.222817e-01</td>\n",
       "      <td>9.595986e-02</td>\n",
       "      <td>1.061497e-01</td>\n",
       "      <td>-1.760948e-01</td>\n",
       "      <td>-6.289785e-02</td>\n",
       "      <td>-1.592246e-01</td>\n",
       "      <td>3.312687e-02</td>\n",
       "      <td>2.377348e-01</td>\n",
       "      <td>-2.337204e-01</td>\n",
       "    </tr>\n",
       "    <tr>\n",
       "      <th>75%</th>\n",
       "      <td>8.361286e-01</td>\n",
       "      <td>6.697929e-01</td>\n",
       "      <td>6.981085e-01</td>\n",
       "      <td>6.020883e-01</td>\n",
       "      <td>5.096384e-01</td>\n",
       "      <td>8.089974e-01</td>\n",
       "      <td>8.490851e-01</td>\n",
       "      <td>6.095413e-01</td>\n",
       "      <td>6.291754e-01</td>\n",
       "      <td>4.939560e-01</td>\n",
       "      <td>7.131644e-01</td>\n",
       "      <td>7.885875e-01</td>\n",
       "      <td>7.582494e-01</td>\n",
       "    </tr>\n",
       "    <tr>\n",
       "      <th>max</th>\n",
       "      <td>2.259772e+00</td>\n",
       "      <td>3.109192e+00</td>\n",
       "      <td>3.156325e+00</td>\n",
       "      <td>3.154511e+00</td>\n",
       "      <td>4.371372e+00</td>\n",
       "      <td>2.539515e+00</td>\n",
       "      <td>3.062832e+00</td>\n",
       "      <td>2.402403e+00</td>\n",
       "      <td>3.485073e+00</td>\n",
       "      <td>3.435432e+00</td>\n",
       "      <td>3.301694e+00</td>\n",
       "      <td>1.960915e+00</td>\n",
       "      <td>2.971473e+00</td>\n",
       "    </tr>\n",
       "  </tbody>\n",
       "</table>\n",
       "</div>"
      ],
      "text/plain": [
       "                 0             1             2             3             4   \\\n",
       "count  1.780000e+02  1.780000e+02  1.780000e+02  1.780000e+02  1.780000e+02   \n",
       "mean   7.943708e-15  3.592632e-16 -4.066660e-15 -7.983626e-17 -7.983626e-17   \n",
       "std    1.002821e+00  1.002821e+00  1.002821e+00  1.002821e+00  1.002821e+00   \n",
       "min   -2.434235e+00 -1.432983e+00 -3.679162e+00 -2.671018e+00 -2.088255e+00   \n",
       "25%   -7.882448e-01 -6.587486e-01 -5.721225e-01 -6.891372e-01 -8.244151e-01   \n",
       "50%    6.099988e-02 -4.231120e-01 -2.382132e-02  1.518295e-03 -1.222817e-01   \n",
       "75%    8.361286e-01  6.697929e-01  6.981085e-01  6.020883e-01  5.096384e-01   \n",
       "max    2.259772e+00  3.109192e+00  3.156325e+00  3.154511e+00  4.371372e+00   \n",
       "\n",
       "                 5             6             7             8             9   \\\n",
       "count  1.780000e+02  1.780000e+02  1.780000e+02  1.780000e+02  1.780000e+02   \n",
       "mean  -3.991813e-17  9.979533e-16 -5.588538e-16 -1.656602e-15 -3.442939e-16   \n",
       "std    1.002821e+00  1.002821e+00  1.002821e+00  1.002821e+00  1.002821e+00   \n",
       "min   -2.107246e+00 -1.695971e+00 -1.868234e+00 -2.069034e+00 -1.634288e+00   \n",
       "25%   -8.854682e-01 -8.275393e-01 -7.401412e-01 -5.972835e-01 -7.951025e-01   \n",
       "50%    9.595986e-02  1.061497e-01 -1.760948e-01 -6.289785e-02 -1.592246e-01   \n",
       "75%    8.089974e-01  8.490851e-01  6.095413e-01  6.291754e-01  4.939560e-01   \n",
       "max    2.539515e+00  3.062832e+00  2.402403e+00  3.485073e+00  3.435432e+00   \n",
       "\n",
       "                 10            11            12  \n",
       "count  1.780000e+02  1.780000e+02  1.780000e+02  \n",
       "mean   1.636643e-15  2.235415e-15 -1.197544e-16  \n",
       "std    1.002821e+00  1.002821e+00  1.002821e+00  \n",
       "min   -2.094732e+00 -1.895054e+00 -1.493188e+00  \n",
       "25%   -7.675624e-01 -9.522483e-01 -7.846378e-01  \n",
       "50%    3.312687e-02  2.377348e-01 -2.337204e-01  \n",
       "75%    7.131644e-01  7.885875e-01  7.582494e-01  \n",
       "max    3.301694e+00  1.960915e+00  2.971473e+00  "
      ]
     },
     "execution_count": 28,
     "metadata": {},
     "output_type": "execute_result"
    }
   ],
   "source": [
    "df_scaled.describe()"
   ]
  },
  {
   "cell_type": "code",
   "execution_count": 29,
   "metadata": {},
   "outputs": [
    {
     "data": {
      "text/plain": [
       "0     1.00565\n",
       "1     1.00565\n",
       "2     1.00565\n",
       "3     1.00565\n",
       "4     1.00565\n",
       "5     1.00565\n",
       "6     1.00565\n",
       "7     1.00565\n",
       "8     1.00565\n",
       "9     1.00565\n",
       "10    1.00565\n",
       "11    1.00565\n",
       "12    1.00565\n",
       "dtype: float64"
      ]
     },
     "execution_count": 29,
     "metadata": {},
     "output_type": "execute_result"
    }
   ],
   "source": [
    "df_scaled.var()"
   ]
  },
  {
   "cell_type": "markdown",
   "metadata": {},
   "source": [
    "*Ex 1a*"
   ]
  },
  {
   "cell_type": "code",
   "execution_count": 30,
   "metadata": {},
   "outputs": [],
   "source": [
    "from sklearn.model_selection import train_test_split"
   ]
  },
  {
   "cell_type": "code",
   "execution_count": 31,
   "metadata": {},
   "outputs": [],
   "source": [
    "X_train, X_test, y_train, y_test = train_test_split(df_scaled, data.target, test_size=.25, random_state=700)"
   ]
  },
  {
   "cell_type": "markdown",
   "metadata": {},
   "source": [
    "*Ex 2*"
   ]
  },
  {
   "cell_type": "code",
   "execution_count": 32,
   "metadata": {},
   "outputs": [],
   "source": [
    "cov_mrx = np.cov(X_train)"
   ]
  },
  {
   "cell_type": "markdown",
   "metadata": {},
   "source": [
    "*Ex 3*"
   ]
  },
  {
   "cell_type": "code",
   "execution_count": 33,
   "metadata": {},
   "outputs": [],
   "source": [
    "values, vectors = np.linalg.eig(cov_mrx)"
   ]
  },
  {
   "cell_type": "code",
   "execution_count": 34,
   "metadata": {},
   "outputs": [],
   "source": [
    "explained_variances = []\n",
    "for i in range(len(values)):\n",
    "    explained_variances.append(values[i] / np.sum(values))"
   ]
  },
  {
   "cell_type": "markdown",
   "metadata": {},
   "source": [
    "*Ex 4*"
   ]
  },
  {
   "cell_type": "code",
   "execution_count": 35,
   "metadata": {},
   "outputs": [],
   "source": [
    "zipped_lists = zip(values, vectors)\n",
    "\n",
    "sorted_pairs = sorted(zipped_lists, reverse=True)\n",
    "\n",
    "\n",
    "tuples = zip(*sorted_pairs)\n",
    "values, vectors = [ list(tuple) for tuple in  tuples]"
   ]
  },
  {
   "cell_type": "markdown",
   "metadata": {},
   "source": [
    "*Ex 5*"
   ]
  },
  {
   "cell_type": "code",
   "execution_count": 36,
   "metadata": {},
   "outputs": [
    {
     "data": {
      "image/png": "[encoded data removed]",
      "text/plain": [
       "<Figure size 360x504 with 1 Axes>"
      ]
     },
     "metadata": {
      "needs_background": "light"
     },
     "output_type": "display_data"
    }
   ],
   "source": [
    "pca = PCA().fit(X_train)\n",
    "plt.plot(np.cumsum(pca.explained_variance_ratio_))\n",
    "plt.xlabel('number of components')\n",
    "plt.ylabel('cumalitive explained variance')\n",
    "plt.gcf().set_size_inches(5, 7)"
   ]
  },
  {
   "cell_type": "code",
   "execution_count": 37,
   "metadata": {},
   "outputs": [
    {
     "data": {
      "text/plain": [
       "[(44.49961279984814+0j),\n",
       " (23.198513243803784+0j),\n",
       " (11.856933025795174+0j),\n",
       " (11.218062185329112+0j),\n",
       " (9.067281194250638+0j)]"
      ]
     },
     "execution_count": 37,
     "metadata": {},
     "output_type": "execute_result"
    }
   ],
   "source": [
    "values[:5]"
   ]
  },
  {
   "cell_type": "code",
   "execution_count": 38,
   "metadata": {},
   "outputs": [
    {
     "data": {
      "text/html": [
       "<div>\n",
       "<style scoped>\n",
       "    .dataframe tbody tr th:only-of-type {\n",
       "        vertical-align: middle;\n",
       "    }\n",
       "\n",
       "    .dataframe tbody tr th {\n",
       "        vertical-align: top;\n",
       "    }\n",
       "\n",
       "    .dataframe thead th {\n",
       "        text-align: right;\n",
       "    }\n",
       "</style>\n",
       "<table border=\"1\" class=\"dataframe\">\n",
       "  <thead>\n",
       "    <tr style=\"text-align: right;\">\n",
       "      <th></th>\n",
       "      <th>0</th>\n",
       "      <th>1</th>\n",
       "      <th>2</th>\n",
       "      <th>3</th>\n",
       "      <th>4</th>\n",
       "      <th>5</th>\n",
       "      <th>6</th>\n",
       "      <th>7</th>\n",
       "      <th>8</th>\n",
       "      <th>9</th>\n",
       "    </tr>\n",
       "  </thead>\n",
       "  <tbody>\n",
       "    <tr>\n",
       "      <th>0</th>\n",
       "      <td>3.059906</td>\n",
       "      <td>-0.495951</td>\n",
       "      <td>0.722689</td>\n",
       "      <td>-0.669585</td>\n",
       "      <td>-1.113905</td>\n",
       "      <td>-1.217761</td>\n",
       "      <td>-0.427806</td>\n",
       "      <td>0.403040</td>\n",
       "      <td>0.280602</td>\n",
       "      <td>0.230598</td>\n",
       "    </tr>\n",
       "    <tr>\n",
       "      <th>1</th>\n",
       "      <td>-2.441608</td>\n",
       "      <td>-1.093921</td>\n",
       "      <td>-1.718673</td>\n",
       "      <td>0.798489</td>\n",
       "      <td>-0.770453</td>\n",
       "      <td>-0.218073</td>\n",
       "      <td>0.099351</td>\n",
       "      <td>0.511301</td>\n",
       "      <td>0.471119</td>\n",
       "      <td>0.193747</td>\n",
       "    </tr>\n",
       "    <tr>\n",
       "      <th>2</th>\n",
       "      <td>2.717276</td>\n",
       "      <td>-0.566617</td>\n",
       "      <td>-1.252046</td>\n",
       "      <td>-0.663194</td>\n",
       "      <td>0.303456</td>\n",
       "      <td>1.813005</td>\n",
       "      <td>0.357605</td>\n",
       "      <td>-0.392298</td>\n",
       "      <td>0.027520</td>\n",
       "      <td>0.853801</td>\n",
       "    </tr>\n",
       "    <tr>\n",
       "      <th>3</th>\n",
       "      <td>-0.469614</td>\n",
       "      <td>-0.358846</td>\n",
       "      <td>0.126747</td>\n",
       "      <td>1.328514</td>\n",
       "      <td>0.758569</td>\n",
       "      <td>-1.043077</td>\n",
       "      <td>0.185946</td>\n",
       "      <td>-0.409370</td>\n",
       "      <td>0.573081</td>\n",
       "      <td>-0.031182</td>\n",
       "    </tr>\n",
       "    <tr>\n",
       "      <th>4</th>\n",
       "      <td>1.445942</td>\n",
       "      <td>1.285569</td>\n",
       "      <td>-0.414366</td>\n",
       "      <td>-0.942583</td>\n",
       "      <td>0.769718</td>\n",
       "      <td>-1.040085</td>\n",
       "      <td>0.562576</td>\n",
       "      <td>-0.771037</td>\n",
       "      <td>0.356460</td>\n",
       "      <td>0.008699</td>\n",
       "    </tr>\n",
       "  </tbody>\n",
       "</table>\n",
       "</div>"
      ],
      "text/plain": [
       "          0         1         2         3         4         5         6  \\\n",
       "0  3.059906 -0.495951  0.722689 -0.669585 -1.113905 -1.217761 -0.427806   \n",
       "1 -2.441608 -1.093921 -1.718673  0.798489 -0.770453 -0.218073  0.099351   \n",
       "2  2.717276 -0.566617 -1.252046 -0.663194  0.303456  1.813005  0.357605   \n",
       "3 -0.469614 -0.358846  0.126747  1.328514  0.758569 -1.043077  0.185946   \n",
       "4  1.445942  1.285569 -0.414366 -0.942583  0.769718 -1.040085  0.562576   \n",
       "\n",
       "          7         8         9  \n",
       "0  0.403040  0.280602  0.230598  \n",
       "1  0.511301  0.471119  0.193747  \n",
       "2 -0.392298  0.027520  0.853801  \n",
       "3 -0.409370  0.573081 -0.031182  \n",
       "4 -0.771037  0.356460  0.008699  "
      ]
     },
     "execution_count": 38,
     "metadata": {},
     "output_type": "execute_result"
    }
   ],
   "source": [
    "pca =  PCA(svd_solver='full', n_components=0.95)\n",
    "principal_components = pca.fit_transform(X_train)\n",
    "principal_df = pd.DataFrame(data=principal_components)\n",
    "principal_df.head()"
   ]
  },
  {
   "cell_type": "markdown",
   "metadata": {},
   "source": [
    "*Ex 6*"
   ]
  },
  {
   "cell_type": "code",
   "execution_count": 39,
   "metadata": {},
   "outputs": [
    {
     "data": {
      "text/plain": [
       "[array([ 1.34370920e-01+0.j        ,  3.64697030e-02+0.j        ,\n",
       "         8.32488651e-02+0.j        ,  1.44794935e-02+0.j        ,\n",
       "         4.75525281e-02+0.j        ,  1.35353839e-01+0.j        ,\n",
       "        -3.40463039e-02+0.j        ,  7.10321833e-02+0.j        ,\n",
       "        -6.52244587e-03+0.j        ,  2.16260143e-02+0.j        ,\n",
       "         1.12142823e-01+0.j        , -1.74565415e-03+0.j        ,\n",
       "        -4.02982495e-01+0.j        ,  5.51165871e-01+0.j        ,\n",
       "         5.51165871e-01-0.j        ,  2.22857254e-02-0.09574645j,\n",
       "         2.22857254e-02+0.09574645j,  1.24216441e-02+0.j        ,\n",
       "         1.94067469e-02-0.03606534j,  1.94067469e-02+0.03606534j,\n",
       "         4.47786300e-02+0.02509051j,  4.47786300e-02-0.02509051j,\n",
       "         8.72777995e-02+0.0555606j ,  8.72777995e-02-0.0555606j ,\n",
       "         8.47113566e-02-0.0529682j ,  8.47113566e-02+0.0529682j ,\n",
       "         6.33649640e-03-0.06030863j,  6.33649640e-03+0.06030863j,\n",
       "        -1.31424349e-01+0.j        , -5.76083538e-05-0.07519572j,\n",
       "        -5.76083538e-05+0.07519572j, -3.81923610e-02+0.j        ,\n",
       "        -1.58375645e-01+0.j        ,  2.83000757e-02-0.02807919j,\n",
       "         2.83000757e-02+0.02807919j,  2.77392601e-02-0.04349379j,\n",
       "         2.77392601e-02+0.04349379j,  5.01744617e-02-0.10306047j,\n",
       "         5.01744617e-02+0.10306047j,  4.55417951e-02+0.j        ,\n",
       "        -1.05370221e-01+0.j        ,  5.26389795e-02+0.15256698j,\n",
       "         5.26389795e-02-0.15256698j, -1.77718416e-02+0.00889027j,\n",
       "        -1.77718416e-02-0.00889027j,  1.42211136e-01-0.06477099j,\n",
       "         1.42211136e-01+0.06477099j,  1.39357207e-02-0.15475219j,\n",
       "         1.39357207e-02+0.15475219j,  1.27663963e-01+0.j        ,\n",
       "         4.05872801e-02-0.07482709j,  4.05872801e-02+0.07482709j,\n",
       "         3.70448758e-02-0.08885059j,  3.70448758e-02+0.08885059j,\n",
       "         2.23330446e-02-0.11096209j,  2.23330446e-02+0.11096209j,\n",
       "        -6.52207480e-02-0.01161509j, -6.52207480e-02+0.01161509j,\n",
       "         5.41833561e-02-0.06388766j,  5.41833561e-02+0.06388766j,\n",
       "        -1.11850806e-02+0.08173415j, -1.11850806e-02-0.08173415j,\n",
       "         4.85494585e-02-0.00189551j,  4.85494585e-02+0.00189551j,\n",
       "        -7.42310572e-02-0.1209545j , -7.42310572e-02+0.1209545j ,\n",
       "        -9.43410166e-02+0.j        , -8.21444677e-02+0.01506407j,\n",
       "        -8.21444677e-02-0.01506407j,  6.93508823e-02+0.04658066j,\n",
       "         6.93508823e-02-0.04658066j, -5.36350185e-02+0.05656783j,\n",
       "        -5.36350185e-02-0.05656783j, -9.34628214e-03-0.10423073j,\n",
       "        -9.34628214e-03+0.10423073j,  6.02633502e-02-0.00311912j,\n",
       "         6.02633502e-02+0.00311912j,  6.97673764e-02-0.03979702j,\n",
       "         6.97673764e-02+0.03979702j,  2.94198697e-02+0.01860849j,\n",
       "         2.94198697e-02-0.01860849j, -2.32164856e-02-0.0226769j ,\n",
       "        -2.32164856e-02+0.0226769j ,  7.72868799e-02-0.0008032j ,\n",
       "         7.72868799e-02+0.0008032j ,  7.90754616e-02+0.j        ,\n",
       "         5.27142912e-03+0.00462983j,  5.27142912e-03-0.00462983j,\n",
       "        -4.44210512e-02+0.00981289j, -4.44210512e-02-0.00981289j,\n",
       "        -5.86023133e-02-0.0108689j , -5.86023133e-02+0.0108689j ,\n",
       "         1.18993570e-02-0.00361864j,  1.18993570e-02+0.00361864j,\n",
       "        -4.59247016e-02+0.06083358j, -4.59247016e-02-0.06083358j,\n",
       "         9.40836394e-02-0.0043596j ,  9.40836394e-02+0.0043596j ,\n",
       "         2.02539809e-02+0.04498542j,  2.02539809e-02-0.04498542j,\n",
       "        -6.30144876e-03+0.j        , -3.95024947e-02-0.0406998j ,\n",
       "        -3.95024947e-02+0.0406998j ,  2.09879931e-02+0.05248271j,\n",
       "         2.09879931e-02-0.05248271j,  2.86080451e-02-0.00284863j,\n",
       "         2.86080451e-02+0.00284863j, -1.17623939e-02-0.0160583j ,\n",
       "        -1.17623939e-02+0.0160583j , -1.77039543e-03-0.06754027j,\n",
       "        -1.77039543e-03+0.06754027j,  1.89982330e-02-0.01903758j,\n",
       "         1.89982330e-02+0.01903758j,  7.22350849e-02+0.0141152j ,\n",
       "         7.22350849e-02-0.0141152j ,  1.82458335e-02-0.04194812j,\n",
       "         1.82458335e-02+0.04194812j,  1.11130774e-02+0.02155767j,\n",
       "         1.11130774e-02-0.02155767j,  8.79267845e-03+0.03731076j,\n",
       "         8.79267845e-03-0.03731076j,  3.87435575e-03+0.j        ,\n",
       "        -1.72945542e-02+0.j        , -1.80510964e-02+0.j        ,\n",
       "         2.41326149e-02-0.00622186j,  2.41326149e-02+0.00622186j,\n",
       "         2.23099459e-02+0.00255325j,  2.23099459e-02-0.00255325j,\n",
       "        -2.33364336e-03+0.j        ,  2.74161785e-02+0.j        ,\n",
       "        -5.70465010e-03+0.j        , -1.27514128e-02+0.j        ,\n",
       "         3.19359908e-02+0.j        ]),\n",
       " array([-9.13062140e-02+0.j        , -1.12966447e-01+0.j        ,\n",
       "        -2.82015898e-02+0.j        ,  1.23989870e-01+0.j        ,\n",
       "        -6.92670750e-03+0.j        ,  1.14170659e-02+0.j        ,\n",
       "        -2.65190937e-02+0.j        , -7.56705500e-02+0.j        ,\n",
       "         3.50420402e-02+0.j        ,  4.02420207e-02+0.j        ,\n",
       "         1.92475407e-01+0.j        , -3.25811495e-02+0.j        ,\n",
       "        -3.11655477e-01+0.j        , -1.85650924e-01+0.15745519j,\n",
       "        -1.85650924e-01-0.15745519j,  1.49954343e-02+0.02362335j,\n",
       "         1.49954343e-02-0.02362335j,  2.92959390e-02+0.j        ,\n",
       "         2.66461951e-02+0.01876548j,  2.66461951e-02-0.01876548j,\n",
       "        -6.49993077e-03+0.00674333j, -6.49993077e-03-0.00674333j,\n",
       "        -3.89923043e-02-0.02063433j, -3.89923043e-02+0.02063433j,\n",
       "        -2.85220045e-02+0.02589458j, -2.85220045e-02-0.02589458j,\n",
       "        -4.87725213e-02+0.01505707j, -4.87725213e-02-0.01505707j,\n",
       "         3.79875891e-02+0.j        , -8.66048539e-03+0.022807j  ,\n",
       "        -8.66048539e-03-0.022807j  ,  6.75275490e-02+0.j        ,\n",
       "         6.27594928e-02+0.j        ,  2.14983154e-02-0.00560815j,\n",
       "         2.14983154e-02+0.00560815j,  1.81338826e-02+0.04612218j,\n",
       "         1.81338826e-02-0.04612218j, -1.81478471e-02+0.05419702j,\n",
       "        -1.81478471e-02-0.05419702j,  7.45232014e-03+0.j        ,\n",
       "         2.72210079e-02+0.j        ,  1.45774147e-03-0.03404374j,\n",
       "         1.45774147e-03+0.03404374j, -2.61030789e-03+0.01486939j,\n",
       "        -2.61030789e-03-0.01486939j, -4.45329416e-02+0.01111934j,\n",
       "        -4.45329416e-02-0.01111934j, -2.63910907e-02+0.02240736j,\n",
       "        -2.63910907e-02-0.02240736j, -7.73903765e-02+0.j        ,\n",
       "         8.90462738e-04+0.02236758j,  8.90462738e-04-0.02236758j,\n",
       "         5.44003910e-03+0.04906524j,  5.44003910e-03-0.04906524j,\n",
       "        -1.67652957e-02+0.01305893j, -1.67652957e-02-0.01305893j,\n",
       "         1.72887481e-02+0.00817191j,  1.72887481e-02-0.00817191j,\n",
       "        -2.37842661e-02+0.02763111j, -2.37842661e-02-0.02763111j,\n",
       "        -1.27569333e-03-0.03261663j, -1.27569333e-03+0.03261663j,\n",
       "        -6.00788045e-03+0.03106991j, -6.00788045e-03-0.03106991j,\n",
       "        -5.36630780e-04+0.03045896j, -5.36630780e-04-0.03045896j,\n",
       "         6.33712521e-02+0.j        ,  3.11965584e-02-0.0265887j ,\n",
       "         3.11965584e-02+0.0265887j , -3.86742916e-02-0.01476489j,\n",
       "        -3.86742916e-02+0.01476489j,  3.04276187e-02+0.00248523j,\n",
       "         3.04276187e-02-0.00248523j,  2.89456418e-02+0.04040092j,\n",
       "         2.89456418e-02-0.04040092j,  1.04361382e-02+0.00552246j,\n",
       "         1.04361382e-02-0.00552246j,  7.41888638e-03+0.02942707j,\n",
       "         7.41888638e-03-0.02942707j, -1.71211956e-02+0.00088906j,\n",
       "        -1.71211956e-02-0.00088906j, -2.45869848e-03+0.00854434j,\n",
       "        -2.45869848e-03-0.00854434j, -1.61822699e-02+0.00082513j,\n",
       "        -1.61822699e-02-0.00082513j, -4.83356378e-03+0.j        ,\n",
       "         4.18256436e-03-0.00766967j,  4.18256436e-03+0.00766967j,\n",
       "         1.67709540e-02-0.02248068j,  1.67709540e-02+0.02248068j,\n",
       "         2.88065908e-02-0.00854986j,  2.88065908e-02+0.00854986j,\n",
       "        -1.70092489e-02-0.00024504j, -1.70092489e-02+0.00024504j,\n",
       "        -5.20884321e-03-0.0101605j , -5.20884321e-03+0.0101605j ,\n",
       "        -3.10061154e-02+0.02378728j, -3.10061154e-02-0.02378728j,\n",
       "        -1.84905932e-02-0.01334041j, -1.84905932e-02+0.01334041j,\n",
       "        -3.95772749e-02+0.j        ,  2.15140632e-04+0.00650587j,\n",
       "         2.15140632e-04-0.00650587j, -4.51554215e-04-0.0018036j ,\n",
       "        -4.51554215e-04+0.0018036j ,  7.16922761e-03-0.01650214j,\n",
       "         7.16922761e-03+0.01650214j,  6.57578785e-04-0.02132391j,\n",
       "         6.57578785e-04+0.02132391j,  3.39206320e-03+0.01419075j,\n",
       "         3.39206320e-03-0.01419075j, -1.41839525e-02+0.01063791j,\n",
       "        -1.41839525e-02-0.01063791j, -3.63015718e-03-0.00684465j,\n",
       "        -3.63015718e-03+0.00684465j, -2.99466180e-02+0.02881205j,\n",
       "        -2.99466180e-02-0.02881205j,  6.91859624e-03-0.00063337j,\n",
       "         6.91859624e-03+0.00063337j,  1.60290085e-02-0.01602063j,\n",
       "         1.60290085e-02+0.01602063j, -1.28780715e-03+0.j        ,\n",
       "        -1.67149277e-03+0.j        , -4.35622232e-03+0.j        ,\n",
       "        -8.08174919e-03-0.00261007j, -8.08174919e-03+0.00261007j,\n",
       "         2.94799293e-03+0.00377263j,  2.94799293e-03-0.00377263j,\n",
       "        -1.47208393e-02+0.j        ,  4.40634626e-03+0.j        ,\n",
       "        -7.71622048e-04+0.j        ,  7.70329398e-03+0.j        ,\n",
       "        -1.01845946e-02+0.j        ]),\n",
       " array([-1.26579027e-02+0.j        , -1.09211458e-02+0.j        ,\n",
       "        -1.30993789e-01+0.j        , -9.06949225e-03+0.j        ,\n",
       "        -5.78634658e-02+0.j        ,  9.22786042e-02+0.j        ,\n",
       "         5.42777850e-02+0.j        , -3.96652687e-02+0.j        ,\n",
       "         3.84569420e-02+0.j        ,  9.63549295e-02+0.j        ,\n",
       "        -1.49198647e-02+0.j        , -8.51525342e-03+0.j        ,\n",
       "         2.40696701e-02+0.j        ,  4.45547161e-02-0.08260687j,\n",
       "         4.45547161e-02+0.08260687j, -1.67483467e-02-0.02517681j,\n",
       "        -1.67483467e-02+0.02517681j,  9.19327972e-03+0.j        ,\n",
       "         1.74412394e-02-0.03162274j,  1.74412394e-02+0.03162274j,\n",
       "        -4.93661138e-02-0.00178094j, -4.93661138e-02+0.00178094j,\n",
       "        -2.14464028e-05-0.02131644j, -2.14464028e-05+0.02131644j,\n",
       "         2.73433019e-02-0.01074223j,  2.73433019e-02+0.01074223j,\n",
       "        -2.67637091e-02+0.00875092j, -2.67637091e-02-0.00875092j,\n",
       "        -5.35523540e-02+0.j        , -1.64026250e-02-0.00871649j,\n",
       "        -1.64026250e-02+0.00871649j,  8.73663455e-03+0.j        ,\n",
       "        -6.29609187e-02+0.j        ,  1.74869038e-02+0.00814913j,\n",
       "         1.74869038e-02-0.00814913j, -1.33567476e-02+0.02334752j,\n",
       "        -1.33567476e-02-0.02334752j, -3.87454654e-02+0.00165332j,\n",
       "        -3.87454654e-02-0.00165332j,  2.15635494e-02+0.j        ,\n",
       "        -8.29590509e-02+0.j        ,  2.74968218e-02-0.0058765j ,\n",
       "         2.74968218e-02+0.0058765j , -3.36038495e-02-0.00233084j,\n",
       "        -3.36038495e-02+0.00233084j, -1.04246484e-02-0.00179267j,\n",
       "        -1.04246484e-02+0.00179267j, -3.65959208e-02+0.01633962j,\n",
       "        -3.65959208e-02-0.01633962j, -6.82268429e-03+0.j        ,\n",
       "        -1.83378988e-04-0.02227461j, -1.83378988e-04+0.02227461j,\n",
       "         3.19419500e-02-0.01143486j,  3.19419500e-02+0.01143486j,\n",
       "        -4.84400787e-02+0.00428788j, -4.84400787e-02-0.00428788j,\n",
       "        -3.62690492e-02+0.00318761j, -3.62690492e-02-0.00318761j,\n",
       "        -2.78601767e-02+0.01541734j, -2.78601767e-02-0.01541734j,\n",
       "        -1.04661606e-02+0.02052905j, -1.04661606e-02-0.02052905j,\n",
       "         3.85659835e-02+0.02529819j,  3.85659835e-02-0.02529819j,\n",
       "        -2.36275795e-02+0.00515231j, -2.36275795e-02-0.00515231j,\n",
       "         1.72223575e-02+0.j        ,  1.69983087e-02+0.00169519j,\n",
       "         1.69983087e-02-0.00169519j, -2.71880660e-02+0.00102973j,\n",
       "        -2.71880660e-02-0.00102973j,  3.84941583e-02+0.00972717j,\n",
       "         3.84941583e-02-0.00972717j,  5.18286187e-02-0.00271466j,\n",
       "         5.18286187e-02+0.00271466j, -6.45568203e-03+0.01872372j,\n",
       "        -6.45568203e-03-0.01872372j, -5.93019549e-03-0.00996189j,\n",
       "        -5.93019549e-03+0.00996189j, -1.82733934e-02+0.01761861j,\n",
       "        -1.82733934e-02-0.01761861j, -8.16688696e-03+0.04240989j,\n",
       "        -8.16688696e-03-0.04240989j,  2.15948257e-02-0.0083951j ,\n",
       "         2.15948257e-02+0.0083951j , -2.16099114e-02+0.j        ,\n",
       "        -2.41097453e-03-0.02032079j, -2.41097453e-03+0.02032079j,\n",
       "        -1.06757422e-02-0.02972992j, -1.06757422e-02+0.02972992j,\n",
       "        -2.08849706e-02-0.05172231j, -2.08849706e-02+0.05172231j,\n",
       "        -3.32566293e-02-0.00238378j, -3.32566293e-02+0.00238378j,\n",
       "         2.00194976e-02-0.0244388j ,  2.00194976e-02+0.0244388j ,\n",
       "         1.30820487e-02-0.00827823j,  1.30820487e-02+0.00827823j,\n",
       "        -8.53978187e-03+0.01667383j, -8.53978187e-03-0.01667383j,\n",
       "         1.43855199e-02+0.j        , -1.73128621e-02+0.01005211j,\n",
       "        -1.73128621e-02-0.01005211j,  4.41049670e-03+0.02659595j,\n",
       "         4.41049670e-03-0.02659595j,  3.08853108e-02-0.02533232j,\n",
       "         3.08853108e-02+0.02533232j, -2.96346263e-02-0.0277053j ,\n",
       "        -2.96346263e-02+0.0277053j ,  6.81388049e-04-0.00737544j,\n",
       "         6.81388049e-04+0.00737544j, -9.56585889e-03+0.0101258j ,\n",
       "        -9.56585889e-03-0.0101258j ,  3.42729313e-02-0.00527846j,\n",
       "         3.42729313e-02+0.00527846j, -1.09597486e-02+0.0512199j ,\n",
       "        -1.09597486e-02-0.0512199j , -2.35893918e-03+0.00323603j,\n",
       "        -2.35893918e-03-0.00323603j,  1.41318406e-02-0.03724556j,\n",
       "         1.41318406e-02+0.03724556j, -2.42871281e-02+0.j        ,\n",
       "        -7.93295515e-03+0.j        , -2.33765181e-02+0.j        ,\n",
       "        -1.41965238e-02-0.00668144j, -1.41965238e-02+0.00668144j,\n",
       "         2.15081170e-02+0.01231271j,  2.15081170e-02-0.01231271j,\n",
       "        -1.86560160e-02+0.j        ,  2.39307260e-02+0.j        ,\n",
       "         1.00115409e-02+0.j        ,  1.47548656e-02+0.j        ,\n",
       "         2.36701498e-03+0.j        ]),\n",
       " array([ 1.00295137e-01+0.j        , -4.84119563e-02+0.j        ,\n",
       "         4.94969302e-02+0.j        ,  4.08911000e-03+0.j        ,\n",
       "        -4.35792868e-02+0.j        , -2.05116962e-01+0.j        ,\n",
       "         9.76296709e-04+0.j        , -2.88158658e-02+0.j        ,\n",
       "        -1.76915773e-02+0.j        ,  2.63513111e-02+0.j        ,\n",
       "        -2.44461428e-02+0.j        ,  1.57132188e-01+0.j        ,\n",
       "        -4.02368663e-02+0.j        ,  8.75166696e-03-0.05129253j,\n",
       "         8.75166696e-03+0.05129253j,  8.06772071e-02-0.0703109j ,\n",
       "         8.06772071e-02+0.0703109j , -1.76316654e-02+0.j        ,\n",
       "         4.19829064e-02+0.04722708j,  4.19829064e-02-0.04722708j,\n",
       "        -2.08809336e-02-0.00951806j, -2.08809336e-02+0.00951806j,\n",
       "        -2.14246003e-02-0.04026266j, -2.14246003e-02+0.04026266j,\n",
       "        -4.46092772e-02-0.00964309j, -4.46092772e-02+0.00964309j,\n",
       "        -1.09619674e-01-0.10674435j, -1.09619674e-01+0.10674435j,\n",
       "         3.18236030e-02+0.j        , -6.03874020e-02-0.01745873j,\n",
       "        -6.03874020e-02+0.01745873j,  6.35418688e-02+0.j        ,\n",
       "        -3.76137473e-02+0.j        ,  2.33839534e-02+0.03188364j,\n",
       "         2.33839534e-02-0.03188364j, -5.41785154e-03+0.03580182j,\n",
       "        -5.41785154e-03-0.03580182j, -7.54843212e-02-0.04192989j,\n",
       "        -7.54843212e-02+0.04192989j,  4.76439331e-02+0.j        ,\n",
       "         4.37677826e-03+0.j        ,  5.26378301e-03+0.00460261j,\n",
       "         5.26378301e-03-0.00460261j, -5.43929506e-02+0.02258798j,\n",
       "        -5.43929506e-02-0.02258798j, -1.59578125e-02-0.06937232j,\n",
       "        -1.59578125e-02+0.06937232j, -4.84047454e-03-0.01101996j,\n",
       "        -4.84047454e-03+0.01101996j, -5.57705843e-02+0.j        ,\n",
       "        -7.66336226e-03-0.01606226j, -7.66336226e-03+0.01606226j,\n",
       "        -3.47277008e-02-0.03545241j, -3.47277008e-02+0.03545241j,\n",
       "        -3.14765207e-02-0.01163339j, -3.14765207e-02+0.01163339j,\n",
       "         1.24135108e-02-0.01872913j,  1.24135108e-02+0.01872913j,\n",
       "        -5.12093216e-02+0.00081235j, -5.12093216e-02-0.00081235j,\n",
       "        -4.68726782e-03+0.01253644j, -4.68726782e-03-0.01253644j,\n",
       "        -2.71985288e-02-0.05279548j, -2.71985288e-02+0.05279548j,\n",
       "         7.11547624e-03-0.00022991j,  7.11547624e-03+0.00022991j,\n",
       "         6.89712085e-02+0.j        ,  4.65127767e-02+0.00024639j,\n",
       "         4.65127767e-02-0.00024639j, -4.14229716e-02-0.00097939j,\n",
       "        -4.14229716e-02+0.00097939j,  1.79519683e-02-0.03707001j,\n",
       "         1.79519683e-02+0.03707001j,  2.38105190e-03-0.00956285j,\n",
       "         2.38105190e-03+0.00956285j,  1.55133288e-02+0.00628117j,\n",
       "         1.55133288e-02-0.00628117j, -3.72589440e-03+0.02409643j,\n",
       "        -3.72589440e-03-0.02409643j, -6.07599239e-02-0.0025776j ,\n",
       "        -6.07599239e-02+0.0025776j , -2.20261245e-02+0.00727699j,\n",
       "        -2.20261245e-02-0.00727699j,  3.05609989e-02-0.00434734j,\n",
       "         3.05609989e-02+0.00434734j,  1.88839956e-02+0.j        ,\n",
       "         1.22933633e-02+0.00632657j,  1.22933633e-02-0.00632657j,\n",
       "         4.40538662e-03+0.00989223j,  4.40538662e-03-0.00989223j,\n",
       "        -2.66591861e-02+0.01953891j, -2.66591861e-02-0.01953891j,\n",
       "        -1.86230930e-02+0.03538436j, -1.86230930e-02-0.03538436j,\n",
       "         2.39714551e-03+0.00183378j,  2.39714551e-03-0.00183378j,\n",
       "         1.81823786e-04+0.02004831j,  1.81823786e-04-0.02004831j,\n",
       "        -1.77167431e-02-0.04320323j, -1.77167431e-02+0.04320323j,\n",
       "        -8.82114732e-03+0.j        ,  1.09548433e-02+0.05060482j,\n",
       "         1.09548433e-02-0.05060482j,  2.20753415e-02-0.00701602j,\n",
       "         2.20753415e-02+0.00701602j, -6.55668307e-03+0.0184069j ,\n",
       "        -6.55668307e-03-0.0184069j ,  3.49047950e-02+0.02103371j,\n",
       "         3.49047950e-02-0.02103371j, -2.40206952e-02+0.03426162j,\n",
       "        -2.40206952e-02-0.03426162j, -1.80847920e-02-0.02198549j,\n",
       "        -1.80847920e-02+0.02198549j,  1.29413026e-02-0.03645959j,\n",
       "         1.29413026e-02+0.03645959j, -2.15593171e-02+0.0345504j ,\n",
       "        -2.15593171e-02-0.0345504j ,  7.97557708e-03+0.05547947j,\n",
       "         7.97557708e-03-0.05547947j, -4.91274634e-03-0.04148574j,\n",
       "        -4.91274634e-03+0.04148574j, -5.90498934e-03+0.j        ,\n",
       "         1.78295340e-02+0.j        ,  3.33475019e-02+0.j        ,\n",
       "        -4.46028476e-02-0.00053976j, -4.46028476e-02+0.00053976j,\n",
       "         2.68692087e-02+0.00810392j,  2.68692087e-02-0.00810392j,\n",
       "         1.68751175e-02+0.j        ,  5.08017655e-02+0.j        ,\n",
       "         7.44430898e-02+0.j        , -4.98264251e-02+0.j        ,\n",
       "         4.44011312e-02+0.j        ]),\n",
       " array([ 0.03276511+0.j        ,  0.06221357+0.j        ,\n",
       "         0.0591257 +0.j        , -0.03089262+0.j        ,\n",
       "        -0.14815859+0.j        ,  0.06883207+0.j        ,\n",
       "         0.07230459+0.j        , -0.00576558+0.j        ,\n",
       "        -0.02931636+0.j        ,  0.0836525 +0.j        ,\n",
       "        -0.10507572+0.j        ,  0.03074148+0.j        ,\n",
       "        -0.07381313+0.j        ,  0.02067057+0.00239601j,\n",
       "         0.02067057-0.00239601j, -0.00274536+0.01547403j,\n",
       "        -0.00274536-0.01547403j, -0.05980157+0.j        ,\n",
       "        -0.00855222-0.02455488j, -0.00855222+0.02455488j,\n",
       "        -0.01752656+0.01388224j, -0.01752656-0.01388224j,\n",
       "         0.04442678+0.02026677j,  0.04442678-0.02026677j,\n",
       "         0.04392615+0.03584811j,  0.04392615-0.03584811j,\n",
       "        -0.03513227-0.0321777j , -0.03513227+0.0321777j ,\n",
       "        -0.02979734+0.j        ,  0.03963744+0.0442858j ,\n",
       "         0.03963744-0.0442858j , -0.14303486+0.j        ,\n",
       "         0.05511083+0.j        ,  0.03179747-0.04489116j,\n",
       "         0.03179747+0.04489116j,  0.05814196-0.02955947j,\n",
       "         0.05814196+0.02955947j,  0.01441055+0.03102164j,\n",
       "         0.01441055-0.03102164j, -0.11776733+0.j        ,\n",
       "         0.03558256+0.j        , -0.05716542+0.05182308j,\n",
       "        -0.05716542-0.05182308j,  0.06938345-0.03602229j,\n",
       "         0.06938345+0.03602229j,  0.04345659+0.04380458j,\n",
       "         0.04345659-0.04380458j,  0.00279279-0.04118497j,\n",
       "         0.00279279+0.04118497j, -0.07830045+0.j        ,\n",
       "         0.0436639 +0.02210715j,  0.0436639 -0.02210715j,\n",
       "        -0.01917219+0.05328517j, -0.01917219-0.05328517j,\n",
       "        -0.00557631-0.03095551j, -0.00557631+0.03095551j,\n",
       "         0.01157567-0.04215474j,  0.01157567+0.04215474j,\n",
       "        -0.03785749-0.01446201j, -0.03785749+0.01446201j,\n",
       "         0.02888411-0.02813171j,  0.02888411+0.02813171j,\n",
       "         0.02496101+0.00160308j,  0.02496101-0.00160308j,\n",
       "         0.05343337-0.07114314j,  0.05343337+0.07114314j,\n",
       "         0.0637148 +0.j        ,  0.04510296+0.00934354j,\n",
       "         0.04510296-0.00934354j, -0.05873923-0.02562577j,\n",
       "        -0.05873923+0.02562577j, -0.02832725+0.02571382j,\n",
       "        -0.02832725-0.02571382j,  0.01437431-0.00468879j,\n",
       "         0.01437431+0.00468879j,  0.02857617+0.08134512j,\n",
       "         0.02857617-0.08134512j, -0.00448449+0.04133425j,\n",
       "        -0.00448449-0.04133425j, -0.00829902+0.00364853j,\n",
       "        -0.00829902-0.00364853j,  0.06895759+0.01396121j,\n",
       "         0.06895759-0.01396121j, -0.06250436-0.0271314j ,\n",
       "        -0.06250436+0.0271314j ,  0.0223795 +0.j        ,\n",
       "        -0.02206878-0.01306745j, -0.02206878+0.01306745j,\n",
       "        -0.00863848-0.04430047j, -0.00863848+0.04430047j,\n",
       "         0.01753441+0.00077932j,  0.01753441-0.00077932j,\n",
       "        -0.01927741+0.03260396j, -0.01927741-0.03260396j,\n",
       "        -0.05562123+0.00112476j, -0.05562123-0.00112476j,\n",
       "         0.00224742+0.00179598j,  0.00224742-0.00179598j,\n",
       "        -0.04184038-0.0110261j , -0.04184038+0.0110261j ,\n",
       "        -0.02107805+0.j        ,  0.002201  -0.01741917j,\n",
       "         0.002201  +0.01741917j,  0.02064254-0.01143265j,\n",
       "         0.02064254+0.01143265j, -0.0132749 -0.01440592j,\n",
       "        -0.0132749 +0.01440592j, -0.04466752+0.00269564j,\n",
       "        -0.04466752-0.00269564j,  0.04038705+0.03532277j,\n",
       "         0.04038705-0.03532277j,  0.05487324-0.02604713j,\n",
       "         0.05487324+0.02604713j, -0.05673987+0.00287091j,\n",
       "        -0.05673987-0.00287091j, -0.01597056+0.05148857j,\n",
       "        -0.01597056-0.05148857j, -0.02807944-0.00251091j,\n",
       "        -0.02807944+0.00251091j, -0.02405883-0.04602723j,\n",
       "        -0.02405883+0.04602723j,  0.00629121+0.j        ,\n",
       "        -0.05243552+0.j        ,  0.02919726+0.j        ,\n",
       "         0.0189388 +0.0047131j ,  0.0189388 -0.0047131j ,\n",
       "         0.02443392-0.00523949j,  0.02443392+0.00523949j,\n",
       "         0.04524306+0.j        ,  0.03498026+0.j        ,\n",
       "         0.01433378+0.j        ,  0.03564169+0.j        ,\n",
       "         0.01943584+0.j        ])]"
      ]
     },
     "execution_count": 39,
     "metadata": {},
     "output_type": "execute_result"
    }
   ],
   "source": [
    "vectors[:5]"
   ]
  }
 ],
 "metadata": {
  "kernelspec": {
   "display_name": "Python 3.7.6 64-bit ('venv': venv)",
   "language": "python",
   "name": "python37664bitvenvvenv5f1adf810f89467c865a77a535627d9a"
  },
  "language_info": {
   "codemirror_mode": {
    "name": "ipython",
    "version": 3
   },
   "file_extension": ".py",
   "mimetype": "text/x-python",
   "name": "python",
   "nbconvert_exporter": "python",
   "pygments_lexer": "ipython3",
   "version": "3.7.6"
  }
 },
 "nbformat": 4,
 "nbformat_minor": 4
}
