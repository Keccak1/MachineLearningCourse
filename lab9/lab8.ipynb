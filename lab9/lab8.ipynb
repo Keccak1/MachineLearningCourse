{
 "cells": [
  {
   "cell_type": "markdown",
   "metadata": {},
   "source": [
    "## K-means clustering - example I"
   ]
  },
  {
   "cell_type": "markdown",
   "metadata": {},
   "source": [
    "*Ex: 1*"
   ]
  },
  {
   "cell_type": "code",
   "execution_count": 1,
   "metadata": {},
   "outputs": [
    {
     "name": "stdout",
     "output_type": "stream",
     "text": [
      "Help on function make_blobs in module sklearn.datasets._samples_generator:\n",
      "\n",
      "make_blobs(n_samples=100, n_features=2, *, centers=None, cluster_std=1.0, center_box=(-10.0, 10.0), shuffle=True, random_state=None, return_centers=False)\n",
      "    Generate isotropic Gaussian blobs for clustering.\n",
      "    \n",
      "    Read more in the :ref:`User Guide <sample_generators>`.\n",
      "    \n",
      "    Parameters\n",
      "    ----------\n",
      "    n_samples : int or array-like, optional (default=100)\n",
      "        If int, it is the total number of points equally divided among\n",
      "        clusters.\n",
      "        If array-like, each element of the sequence indicates\n",
      "        the number of samples per cluster.\n",
      "    \n",
      "        .. versionchanged:: v0.20\n",
      "            one can now pass an array-like to the ``n_samples`` parameter\n",
      "    \n",
      "    n_features : int, optional (default=2)\n",
      "        The number of features for each sample.\n",
      "    \n",
      "    centers : int or array of shape [n_centers, n_features], optional\n",
      "        (default=None)\n",
      "        The number of centers to generate, or the fixed center locations.\n",
      "        If n_samples is an int and centers is None, 3 centers are generated.\n",
      "        If n_samples is array-like, centers must be\n",
      "        either None or an array of length equal to the length of n_samples.\n",
      "    \n",
      "    cluster_std : float or sequence of floats, optional (default=1.0)\n",
      "        The standard deviation of the clusters.\n",
      "    \n",
      "    center_box : pair of floats (min, max), optional (default=(-10.0, 10.0))\n",
      "        The bounding box for each cluster center when centers are\n",
      "        generated at random.\n",
      "    \n",
      "    shuffle : boolean, optional (default=True)\n",
      "        Shuffle the samples.\n",
      "    \n",
      "    random_state : int, RandomState instance, default=None\n",
      "        Determines random number generation for dataset creation. Pass an int\n",
      "        for reproducible output across multiple function calls.\n",
      "        See :term:`Glossary <random_state>`.\n",
      "    \n",
      "    return_centers : bool, optional (default=False)\n",
      "        If True, then return the centers of each cluster\n",
      "    \n",
      "        .. versionadded:: 0.23\n",
      "    \n",
      "    Returns\n",
      "    -------\n",
      "    X : array of shape [n_samples, n_features]\n",
      "        The generated samples.\n",
      "    \n",
      "    y : array of shape [n_samples]\n",
      "        The integer labels for cluster membership of each sample.\n",
      "    \n",
      "    centers : array, shape [n_centers, n_features]\n",
      "        The centers of each cluster. Only returned if\n",
      "        ``return_centers=True``.\n",
      "    \n",
      "    Examples\n",
      "    --------\n",
      "    >>> from sklearn.datasets import make_blobs\n",
      "    >>> X, y = make_blobs(n_samples=10, centers=3, n_features=2,\n",
      "    ...                   random_state=0)\n",
      "    >>> print(X.shape)\n",
      "    (10, 2)\n",
      "    >>> y\n",
      "    array([0, 0, 1, 0, 2, 2, 2, 1, 1, 0])\n",
      "    >>> X, y = make_blobs(n_samples=[3, 3, 4], centers=None, n_features=2,\n",
      "    ...                   random_state=0)\n",
      "    >>> print(X.shape)\n",
      "    (10, 2)\n",
      "    >>> y\n",
      "    array([0, 1, 2, 0, 2, 2, 2, 1, 1, 0])\n",
      "    \n",
      "    See also\n",
      "    --------\n",
      "    make_classification: a more intricate variant\n",
      "\n"
     ]
    },
    {
     "name": "stderr",
     "output_type": "stream",
     "text": [
      "/home/artur/Documents/agh/sem_II/ml/venv/lib/python3.7/site-packages/sklearn/utils/deprecation.py:143: FutureWarning: The sklearn.datasets.samples_generator module is  deprecated in version 0.22 and will be removed in version 0.24. The corresponding classes / functions should instead be imported from sklearn.datasets. Anything that cannot be imported from sklearn.datasets is now part of the private API.\n",
      "  warnings.warn(message, FutureWarning)\n"
     ]
    }
   ],
   "source": [
    "from sklearn.datasets.samples_generator import make_blobs \n",
    " \n",
    "help(make_blobs)"
   ]
  },
  {
   "cell_type": "markdown",
   "metadata": {},
   "source": [
    "*Ex 2*"
   ]
  },
  {
   "cell_type": "code",
   "execution_count": 2,
   "metadata": {},
   "outputs": [],
   "source": [
    "X, y = make_blobs(n_samples=120, centers=4, n_features=2, cluster_std=.4)"
   ]
  },
  {
   "cell_type": "markdown",
   "metadata": {},
   "source": [
    "*Ex 3*"
   ]
  },
  {
   "cell_type": "code",
   "execution_count": 3,
   "metadata": {},
   "outputs": [],
   "source": [
    "from scipy import stats"
   ]
  },
  {
   "cell_type": "code",
   "execution_count": 4,
   "metadata": {},
   "outputs": [
    {
     "data": {
      "text/plain": [
       "(120, 2)"
      ]
     },
     "execution_count": 4,
     "metadata": {},
     "output_type": "execute_result"
    }
   ],
   "source": [
    "X.shape"
   ]
  },
  {
   "cell_type": "code",
   "execution_count": 5,
   "metadata": {},
   "outputs": [
    {
     "data": {
      "text/plain": [
       "(120,)"
      ]
     },
     "execution_count": 5,
     "metadata": {},
     "output_type": "execute_result"
    }
   ],
   "source": [
    "y.shape"
   ]
  },
  {
   "cell_type": "markdown",
   "metadata": {},
   "source": [
    "*Ex 4*"
   ]
  },
  {
   "cell_type": "code",
   "execution_count": 6,
   "metadata": {},
   "outputs": [],
   "source": [
    "import matplotlib.pyplot as plt"
   ]
  },
  {
   "cell_type": "code",
   "execution_count": 7,
   "metadata": {},
   "outputs": [
    {
     "data": {
      "text/plain": [
       "<matplotlib.collections.PathCollection at 0x7f3475b35e90>"
      ]
     },
     "execution_count": 7,
     "metadata": {},
     "output_type": "execute_result"
    },
    {
     "data": {
      "image/png": "[encoded data removed]",
      "text/plain": [
       "<Figure size 720x720 with 1 Axes>"
      ]
     },
     "metadata": {
      "needs_background": "light"
     },
     "output_type": "display_data"
    }
   ],
   "source": [
    "plt.figure(figsize=[10, 10])\n",
    "plt.scatter(X[:,0], X[:,1], c=y)"
   ]
  },
  {
   "cell_type": "markdown",
   "metadata": {},
   "source": [
    "*Ex. 5*"
   ]
  },
  {
   "cell_type": "code",
   "execution_count": 8,
   "metadata": {},
   "outputs": [],
   "source": [
    "from sklearn.cluster import KMeans"
   ]
  },
  {
   "cell_type": "code",
   "execution_count": 9,
   "metadata": {},
   "outputs": [],
   "source": [
    "k_means = KMeans(init='random', n_clusters=4)"
   ]
  },
  {
   "cell_type": "code",
   "execution_count": 10,
   "metadata": {},
   "outputs": [
    {
     "data": {
      "text/plain": [
       "KMeans(init='random', n_clusters=4)"
      ]
     },
     "execution_count": 10,
     "metadata": {},
     "output_type": "execute_result"
    }
   ],
   "source": [
    "k_means.fit(X)"
   ]
  },
  {
   "cell_type": "code",
   "execution_count": 11,
   "metadata": {},
   "outputs": [],
   "source": [
    "y_pred = k_means.predict(X)"
   ]
  },
  {
   "cell_type": "markdown",
   "metadata": {},
   "source": [
    "*Ex. 6*"
   ]
  },
  {
   "cell_type": "code",
   "execution_count": 12,
   "metadata": {},
   "outputs": [
    {
     "data": {
      "text/plain": [
       "<matplotlib.collections.PathCollection at 0x7f3471678350>"
      ]
     },
     "execution_count": 12,
     "metadata": {},
     "output_type": "execute_result"
    },
    {
     "data": {
      "image/png": "[encoded data removed]",
      "text/plain": [
       "<Figure size 720x720 with 1 Axes>"
      ]
     },
     "metadata": {
      "needs_background": "light"
     },
     "output_type": "display_data"
    }
   ],
   "source": [
    "plt.figure(figsize=[10, 10])\n",
    "plt.scatter(X[:,0], X[:,1], c=k_means.labels_)"
   ]
  },
  {
   "cell_type": "markdown",
   "metadata": {},
   "source": [
    "*Ex. 7*"
   ]
  },
  {
   "cell_type": "code",
   "execution_count": 13,
   "metadata": {},
   "outputs": [
    {
     "data": {
      "text/plain": [
       "37.809712589748834"
      ]
     },
     "execution_count": 13,
     "metadata": {},
     "output_type": "execute_result"
    }
   ],
   "source": [
    "k_means.inertia_"
   ]
  },
  {
   "cell_type": "code",
   "execution_count": 14,
   "metadata": {},
   "outputs": [],
   "source": [
    "# From jqmcvi\n",
    "\n",
    "def delta(ck, cl):\n",
    "    values = np.ones([len(ck), len(cl)])*10000\n",
    "    \n",
    "    for i in range(0, len(ck)):\n",
    "        for j in range(0, len(cl)):\n",
    "            values[i, j] = np.linalg.norm(ck[i]-cl[j])\n",
    "            \n",
    "    return np.min(values)\n",
    "    \n",
    "def big_delta(ci):\n",
    "    values = np.zeros([len(ci), len(ci)])\n",
    "    \n",
    "    for i in range(0, len(ci)):\n",
    "        for j in range(0, len(ci)):\n",
    "            values[i, j] = np.linalg.norm(ci[i]-ci[j])\n",
    "            \n",
    "    return np.max(values)\n",
    "    \n",
    "def dunn(k_list):\n",
    "    \"\"\" Dunn index [CVI]\n",
    "    \n",
    "    Parameters\n",
    "    ----------\n",
    "    k_list : list of np.arrays\n",
    "        A list containing a numpy array for each cluster |c| = number of clusters\n",
    "        c[K] is np.array([N, p]) (N : number of samples in cluster K, p : sample dimension)\n",
    "    \"\"\"\n",
    "    deltas = np.ones([len(k_list), len(k_list)])*1000000\n",
    "    big_deltas = np.zeros([len(k_list), 1])\n",
    "    l_range = list(range(0, len(k_list)))\n",
    "    \n",
    "    for k in l_range:\n",
    "        for l in (l_range[0:k]+l_range[k+1:]):\n",
    "            deltas[k, l] = delta(k_list[k], k_list[l])\n",
    "        \n",
    "        big_deltas[k] = big_delta(k_list[k])\n",
    "\n",
    "    di = np.min(deltas)/np.max(big_deltas)\n",
    "    return di\n"
   ]
  },
  {
   "cell_type": "code",
   "execution_count": 15,
   "metadata": {},
   "outputs": [],
   "source": [
    "import numpy as np"
   ]
  },
  {
   "cell_type": "code",
   "execution_count": 16,
   "metadata": {},
   "outputs": [],
   "source": [
    "cluster0 = np.array([X[i] for i in range(len(k_means.labels_)) if k_means.labels_[i] == 0])\n",
    "cluster1 = np.array([X[i] for i in range(len(k_means.labels_)) if k_means.labels_[i] == 1])\n",
    "cluster2 = np.array([X[i] for i in range(len(k_means.labels_)) if k_means.labels_[i] == 2])\n",
    "cluster3 = np.array([X[i] for i in range(len(k_means.labels_)) if k_means.labels_[i] == 3])"
   ]
  },
  {
   "cell_type": "code",
   "execution_count": 17,
   "metadata": {},
   "outputs": [
    {
     "data": {
      "text/plain": [
       "4.252548441824639"
      ]
     },
     "execution_count": 17,
     "metadata": {},
     "output_type": "execute_result"
    }
   ],
   "source": [
    "dunn([cluster0, cluster1, cluster2, cluster3])"
   ]
  },
  {
   "cell_type": "markdown",
   "metadata": {},
   "source": [
    "## K-means clustering - example II"
   ]
  },
  {
   "cell_type": "markdown",
   "metadata": {},
   "source": [
    "*Ex 1*"
   ]
  },
  {
   "cell_type": "code",
   "execution_count": 18,
   "metadata": {},
   "outputs": [],
   "source": [
    "X, y = make_blobs(n_samples=120, centers=5, n_features=2, cluster_std=.8)"
   ]
  },
  {
   "cell_type": "code",
   "execution_count": 19,
   "metadata": {},
   "outputs": [
    {
     "data": {
      "text/plain": [
       "<matplotlib.collections.PathCollection at 0x7f346c961050>"
      ]
     },
     "execution_count": 19,
     "metadata": {},
     "output_type": "execute_result"
    },
    {
     "data": {
      "image/png": "[encoded data removed]",
      "text/plain": [
       "<Figure size 720x720 with 1 Axes>"
      ]
     },
     "metadata": {
      "needs_background": "light"
     },
     "output_type": "display_data"
    }
   ],
   "source": [
    "plt.figure(figsize=[10, 10])\n",
    "plt.scatter(X[:,0], X[:,1], c=y)"
   ]
  },
  {
   "cell_type": "markdown",
   "metadata": {},
   "source": [
    "*Ex. 2*"
   ]
  },
  {
   "cell_type": "code",
   "execution_count": 20,
   "metadata": {},
   "outputs": [],
   "source": [
    "k_means5 = KMeans(init='random', n_clusters=5)"
   ]
  },
  {
   "cell_type": "code",
   "execution_count": 21,
   "metadata": {},
   "outputs": [
    {
     "data": {
      "text/plain": [
       "KMeans(init='random', n_clusters=5)"
      ]
     },
     "execution_count": 21,
     "metadata": {},
     "output_type": "execute_result"
    }
   ],
   "source": [
    "k_means5.fit(X)"
   ]
  },
  {
   "cell_type": "code",
   "execution_count": 22,
   "metadata": {},
   "outputs": [],
   "source": [
    "y_pred5 = k_means5.predict(X)"
   ]
  },
  {
   "cell_type": "code",
   "execution_count": 23,
   "metadata": {},
   "outputs": [],
   "source": [
    "k_means2 = KMeans(init='random', n_clusters=2)"
   ]
  },
  {
   "cell_type": "code",
   "execution_count": 24,
   "metadata": {},
   "outputs": [],
   "source": [
    "k_means2.fit(X)\n",
    "y_pred2 = k_means2.predict(X)"
   ]
  },
  {
   "cell_type": "markdown",
   "metadata": {},
   "source": [
    "*Ex. 3*"
   ]
  },
  {
   "cell_type": "code",
   "execution_count": 25,
   "metadata": {},
   "outputs": [
    {
     "data": {
      "text/plain": [
       "132.08896950397252"
      ]
     },
     "execution_count": 25,
     "metadata": {},
     "output_type": "execute_result"
    }
   ],
   "source": [
    "k_means5.inertia_"
   ]
  },
  {
   "cell_type": "code",
   "execution_count": 26,
   "metadata": {},
   "outputs": [],
   "source": [
    "cluster0 = np.array([X[i] for i in range(len(k_means5.labels_)) if k_means5.labels_[i] == 0])\n",
    "cluster1 = np.array([X[i] for i in range(len(k_means5.labels_)) if k_means5.labels_[i] == 1])\n",
    "cluster2 = np.array([X[i] for i in range(len(k_means5.labels_)) if k_means5.labels_[i] == 2])\n",
    "cluster3 = np.array([X[i] for i in range(len(k_means5.labels_)) if k_means5.labels_[i] == 3])\n",
    "cluster4 = np.array([X[i] for i in range(len(k_means5.labels_)) if k_means5.labels_[i] == 4])"
   ]
  },
  {
   "cell_type": "code",
   "execution_count": 27,
   "metadata": {},
   "outputs": [
    {
     "data": {
      "text/plain": [
       "0.037308220912127876"
      ]
     },
     "execution_count": 27,
     "metadata": {},
     "output_type": "execute_result"
    }
   ],
   "source": [
    "dunn([cluster0, cluster1, cluster2, cluster3, cluster4])"
   ]
  },
  {
   "cell_type": "code",
   "execution_count": 28,
   "metadata": {},
   "outputs": [
    {
     "data": {
      "text/plain": [
       "902.209373071775"
      ]
     },
     "execution_count": 28,
     "metadata": {},
     "output_type": "execute_result"
    }
   ],
   "source": [
    "k_means2.inertia_"
   ]
  },
  {
   "cell_type": "code",
   "execution_count": 29,
   "metadata": {},
   "outputs": [],
   "source": [
    "cluster0 = np.array([X[i] for i in range(len(k_means2.labels_)) if k_means2.labels_[i] == 0])\n",
    "cluster1 = np.array([X[i] for i in range(len(k_means2.labels_)) if k_means2.labels_[i] == 1])"
   ]
  },
  {
   "cell_type": "code",
   "execution_count": 30,
   "metadata": {
    "scrolled": true
   },
   "outputs": [
    {
     "data": {
      "text/plain": [
       "0.0824648077378098"
      ]
     },
     "execution_count": 30,
     "metadata": {},
     "output_type": "execute_result"
    }
   ],
   "source": [
    "dunn([cluster0, cluster1])"
   ]
  },
  {
   "cell_type": "markdown",
   "metadata": {},
   "source": [
    "## K-means ++"
   ]
  },
  {
   "cell_type": "code",
   "execution_count": 31,
   "metadata": {},
   "outputs": [],
   "source": [
    "k_means5 = KMeans(n_clusters=5)"
   ]
  },
  {
   "cell_type": "code",
   "execution_count": 32,
   "metadata": {},
   "outputs": [
    {
     "data": {
      "text/plain": [
       "KMeans(n_clusters=5)"
      ]
     },
     "execution_count": 32,
     "metadata": {},
     "output_type": "execute_result"
    }
   ],
   "source": [
    "k_means5.fit(X)"
   ]
  },
  {
   "cell_type": "code",
   "execution_count": 33,
   "metadata": {},
   "outputs": [],
   "source": [
    "y_pred5 = k_means5.predict(X)"
   ]
  },
  {
   "cell_type": "code",
   "execution_count": 34,
   "metadata": {},
   "outputs": [],
   "source": [
    "k_means2 = KMeans(n_clusters=2)"
   ]
  },
  {
   "cell_type": "code",
   "execution_count": 35,
   "metadata": {},
   "outputs": [],
   "source": [
    "k_means2.fit(X)\n",
    "y_pred2 = k_means2.predict(X)"
   ]
  },
  {
   "cell_type": "markdown",
   "metadata": {},
   "source": [
    "*Ex. 3*"
   ]
  },
  {
   "cell_type": "code",
   "execution_count": 36,
   "metadata": {},
   "outputs": [
    {
     "data": {
      "text/plain": [
       "130.65430168294336"
      ]
     },
     "execution_count": 36,
     "metadata": {},
     "output_type": "execute_result"
    }
   ],
   "source": [
    "k_means5.inertia_"
   ]
  },
  {
   "cell_type": "code",
   "execution_count": 37,
   "metadata": {},
   "outputs": [],
   "source": [
    "cluster0 = np.array([X[i] for i in range(len(k_means5.labels_)) if k_means5.labels_[i] == 0])\n",
    "cluster1 = np.array([X[i] for i in range(len(k_means5.labels_)) if k_means5.labels_[i] == 1])\n",
    "cluster2 = np.array([X[i] for i in range(len(k_means5.labels_)) if k_means5.labels_[i] == 2])\n",
    "cluster3 = np.array([X[i] for i in range(len(k_means5.labels_)) if k_means5.labels_[i] == 3])\n",
    "cluster4 = np.array([X[i] for i in range(len(k_means5.labels_)) if k_means5.labels_[i] == 4])"
   ]
  },
  {
   "cell_type": "code",
   "execution_count": 38,
   "metadata": {},
   "outputs": [
    {
     "data": {
      "text/plain": [
       "0.09261645907878145"
      ]
     },
     "execution_count": 38,
     "metadata": {},
     "output_type": "execute_result"
    }
   ],
   "source": [
    "dunn([cluster0, cluster1, cluster2, cluster3, cluster4])"
   ]
  },
  {
   "cell_type": "code",
   "execution_count": 39,
   "metadata": {},
   "outputs": [
    {
     "data": {
      "text/plain": [
       "902.209373071775"
      ]
     },
     "execution_count": 39,
     "metadata": {},
     "output_type": "execute_result"
    }
   ],
   "source": [
    "k_means2.inertia_"
   ]
  },
  {
   "cell_type": "code",
   "execution_count": 40,
   "metadata": {},
   "outputs": [],
   "source": [
    "cluster0 = np.array([X[i] for i in range(len(k_means2.labels_)) if k_means2.labels_[i] == 0])\n",
    "cluster1 = np.array([X[i] for i in range(len(k_means2.labels_)) if k_means2.labels_[i] == 1])"
   ]
  },
  {
   "cell_type": "code",
   "execution_count": 41,
   "metadata": {
    "scrolled": true
   },
   "outputs": [
    {
     "data": {
      "text/plain": [
       "0.0824648077378098"
      ]
     },
     "execution_count": 41,
     "metadata": {},
     "output_type": "execute_result"
    }
   ],
   "source": [
    "dunn([cluster0, cluster1])"
   ]
  },
  {
   "cell_type": "markdown",
   "metadata": {},
   "source": [
    "## Elbow method"
   ]
  },
  {
   "cell_type": "code",
   "execution_count": 42,
   "metadata": {},
   "outputs": [],
   "source": [
    "X, y = make_blobs(n_samples=120, centers=5, n_features=2, cluster_std=.4)"
   ]
  },
  {
   "cell_type": "code",
   "execution_count": 43,
   "metadata": {},
   "outputs": [],
   "source": [
    "inertia = []\n",
    "for k in range(2, 9):\n",
    "    k_means = KMeans(n_clusters=k)\n",
    "    k_means.fit(X)\n",
    "    inertia.append(k_means.inertia_)"
   ]
  },
  {
   "cell_type": "code",
   "execution_count": 46,
   "metadata": {},
   "outputs": [
    {
     "data": {
      "text/plain": [
       "Text(0, 0.5, 'Inertia')"
      ]
     },
     "execution_count": 46,
     "metadata": {},
     "output_type": "execute_result"
    },
    {
     "data": {
      "image/png": "[encoded data removed]",
      "text/plain": [
       "<Figure size 720x360 with 1 Axes>"
      ]
     },
     "metadata": {
      "needs_background": "light"
     },
     "output_type": "display_data"
    }
   ],
   "source": [
    "plt.figure(figsize=[10, 5])\n",
    "plt.plot(range(2,9), inertia)\n",
    "plt.title('Elbow plot')\n",
    "plt.xlabel('k')\n",
    "plt.ylabel('Inertia')"
   ]
  },
  {
   "cell_type": "markdown",
   "metadata": {},
   "source": [
    "## Ex"
   ]
  },
  {
   "cell_type": "code",
   "execution_count": 45,
   "metadata": {},
   "outputs": [
    {
     "data": {
      "image/png": "[encoded data removed]",
      "text/plain": [
       "<Figure size 412.25x360 with 1 Axes>"
      ]
     },
     "metadata": {
      "needs_background": "light"
     },
     "output_type": "display_data"
    }
   ],
   "source": [
    "from sklearn.datasets.samples_generator import make_moons\n",
    "import seaborn as sns\n",
    "import pandas as pd\n",
    "\n",
    " \n",
    "x, y = make_moons(1000, noise=.05, random_state=0)\n",
    "X_moon = pd.DataFrame(x, columns = ['f1','f2'])\n",
    "\n",
    "#TODO: Kmeans\n",
    "k_means = KMeans(n_clusters=2)\n",
    "k_means.fit(x)\n",
    "y_km = k_means.labels_\n",
    "centers = k_means.cluster_centers_\n",
    "\n",
    "#Plot\n",
    "X_moon['k_means'] = y_km\n",
    "sns.lmplot(data=X_moon, x='f1', y='f2', fit_reg=False, hue = 'k_means', palette = ['#eb6c6a', '#6aeb6c']).set(title='Algorytm k-srednich')\n",
    "plt.scatter(centers[:, 0], centers[:, 1], c='black', s=100, alpha=0.5)\n",
    "plt.show()"
   ]
  },
  {
   "cell_type": "code",
   "execution_count": null,
   "metadata": {},
   "outputs": [],
   "source": []
  }
 ],
 "metadata": {
  "kernelspec": {
   "display_name": "Python 3.7.6 64-bit ('venv': venv)",
   "language": "python",
   "name": "python37664bitvenvvenv5f1adf810f89467c865a77a535627d9a"
  },
  "language_info": {
   "codemirror_mode": {
    "name": "ipython",
    "version": 3
   },
   "file_extension": ".py",
   "mimetype": "text/x-python",
   "name": "python",
   "nbconvert_exporter": "python",
   "pygments_lexer": "ipython3",
   "version": "3.7.6"
  }
 },
 "nbformat": 4,
 "nbformat_minor": 4
}
